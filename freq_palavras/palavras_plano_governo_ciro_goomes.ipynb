{
 "cells": [
  {
   "cell_type": "markdown",
   "metadata": {},
   "source": [
    "### Contagem das palavras mais usadas no Plano de governo - CIro Gomes"
   ]
  },
  {
   "cell_type": "markdown",
   "metadata": {},
   "source": [
    "#### Importacao de bibliotecas"
   ]
  },
  {
   "cell_type": "code",
   "execution_count": 1,
   "metadata": {},
   "outputs": [],
   "source": [
    "import pandas as pd\n",
    "import numpy as np\n",
    "# http://scikit-learn.org/stable/modules/feature_extraction.html#text-feature-extraction\n",
    "from sklearn.feature_extraction.text import CountVectorizer\n",
    "import string\n",
    "from nltk.corpus import stopwords\n",
    "from nltk import *\n",
    "from matplotlib import pyplot as plt\n",
    "import seaborn as sns\n",
    "%matplotlib inline"
   ]
  },
  {
   "cell_type": "markdown",
   "metadata": {},
   "source": [
    "### Link do plano de governo\n",
    "\n",
    "- [Plano de governo](http://www.pdt.org.br/wp-content/uploads/2018/07/12-Passos-Para-Mudar-o-Brasil.pdf)\n",
    "\n",
    "### Conversao pdf to text\n",
    "\n",
    "- Utilizei esse site on-line [https://pdftotext.com/](https://pdftotext.com/)"
   ]
  },
  {
   "cell_type": "markdown",
   "metadata": {},
   "source": [
    "### Leitura do arquivo transformado em texto do original em pdf"
   ]
  },
  {
   "cell_type": "code",
   "execution_count": 2,
   "metadata": {},
   "outputs": [],
   "source": [
    "with open('text/plano_governo_ciro_gomes.txt', 'r', encoding='UTF-8') as pl:\n",
    "    big_string = ''\n",
    "    for line in pl:\n",
    "        split_line = line.split(' ')\n",
    "        for word in split_line:\n",
    "            big_string = big_string + ' ' + word"
   ]
  },
  {
   "cell_type": "code",
   "execution_count": 3,
   "metadata": {},
   "outputs": [],
   "source": [
    "# criacao de lista de simbolos de pontuacao\n",
    "punctuation = string.punctuation"
   ]
  },
  {
   "cell_type": "code",
   "execution_count": 4,
   "metadata": {},
   "outputs": [],
   "source": [
    "# removendo quebras de linha '\\n'\n",
    "big_string = big_string.replace('\\n ', ' ')"
   ]
  },
  {
   "cell_type": "code",
   "execution_count": 5,
   "metadata": {},
   "outputs": [],
   "source": [
    "# retirando pontuacao\n",
    "for p in punctuation:\n",
    "    big_string = big_string.replace(p, '')"
   ]
  },
  {
   "cell_type": "code",
   "execution_count": 6,
   "metadata": {},
   "outputs": [],
   "source": [
    "# convertendo tudo para lower case\n",
    "big_string = big_string.lower()"
   ]
  },
  {
   "cell_type": "code",
   "execution_count": 7,
   "metadata": {},
   "outputs": [
    {
     "data": {
      "text/plain": [
       "' convenção nacional do pdt brasília 20 de julho de 2018  ciro gomes précandidato do pdt à presidência da república  12  passos para mudar o brasil  \\x0cpor que o brasil precisa mudar o brasil é um grande país com potencial humano e recursos naturais suficientes para ser também uma grande nação justa próspera com igualdade de oportunidades para todos os seus filhos mas essa não é hoje a nossa realidade por falta de projeto por erros estratégicos por uma visão elitista de alguns governantes desprovida até mesmo de compaixão pelos mais pobres estamos hoje divididos sofridos e em crise crise moral social econômica política e institucional e como sempre quem paga a conta é o povo  carência de transporte moderno no colapso das contas públicas com um rombo anual da ordem de r 500 bilhões incluindo a despesa com juros  o número de desempregados no brasil dobrou entre 2014 e 2018 atingindo em maio deste ano 132 milhões de brasileiras e brasileiros  pib hoje não passa de 11 do pib um terço do que e'"
      ]
     },
     "execution_count": 7,
     "metadata": {},
     "output_type": "execute_result"
    }
   ],
   "source": [
    "# checando a conversao\n",
    "big_string[0:1000]"
   ]
  },
  {
   "cell_type": "code",
   "execution_count": 8,
   "metadata": {},
   "outputs": [
    {
     "data": {
      "text/plain": [
       "32862"
      ]
     },
     "execution_count": 8,
     "metadata": {},
     "output_type": "execute_result"
    }
   ],
   "source": [
    "# comprimento da string\n",
    "len(big_string)"
   ]
  },
  {
   "cell_type": "code",
   "execution_count": 9,
   "metadata": {},
   "outputs": [],
   "source": [
    "# nltk.download() # rodar apenas uma vez para baixar os pacotes"
   ]
  },
  {
   "cell_type": "code",
   "execution_count": 10,
   "metadata": {},
   "outputs": [],
   "source": [
    "# lista de stopwords em portugues\n",
    "stop_words = stopwords.words('portuguese')"
   ]
  },
  {
   "cell_type": "code",
   "execution_count": 11,
   "metadata": {},
   "outputs": [
    {
     "data": {
      "text/plain": [
       "203"
      ]
     },
     "execution_count": 11,
     "metadata": {},
     "output_type": "execute_result"
    }
   ],
   "source": [
    "# numero de stopwords\n",
    "len(stop_words)"
   ]
  },
  {
   "cell_type": "code",
   "execution_count": 12,
   "metadata": {},
   "outputs": [],
   "source": [
    "# aparando os detalhes\n",
    "full_text = big_string\n",
    "for s_word in stop_words:\n",
    "    s_word = ' ' + s_word + ' '\n",
    "    full_text = full_text.replace(s_word, ' ')\n",
    "    full_text = full_text.replace(' é ', ' ')\n",
    "    full_text = full_text.replace(' – ', ' ')\n",
    "    full_text = full_text.replace(' • ', ' ')"
   ]
  },
  {
   "cell_type": "code",
   "execution_count": 13,
   "metadata": {},
   "outputs": [
    {
     "data": {
      "text/plain": [
       "25450"
      ]
     },
     "execution_count": 13,
     "metadata": {},
     "output_type": "execute_result"
    }
   ],
   "source": [
    "# tamanho do texto apos limpeza\n",
    "len(full_text)"
   ]
  },
  {
   "cell_type": "code",
   "execution_count": 14,
   "metadata": {},
   "outputs": [
    {
     "data": {
      "text/plain": [
       "7412"
      ]
     },
     "execution_count": 14,
     "metadata": {},
     "output_type": "execute_result"
    }
   ],
   "source": [
    "# quantidade de caracteres removidos\n",
    "len(big_string)-len(full_text)"
   ]
  },
  {
   "cell_type": "code",
   "execution_count": 15,
   "metadata": {},
   "outputs": [],
   "source": [
    "# transformando a string em lista\n",
    "full_text = [full_text]"
   ]
  },
  {
   "cell_type": "code",
   "execution_count": 16,
   "metadata": {},
   "outputs": [],
   "source": [
    "# separando palavra por palavra\n",
    "freq_full_text = full_text[0].split(' ')"
   ]
  },
  {
   "cell_type": "markdown",
   "metadata": {},
   "source": [
    "### Documentacao FreqDist\n",
    "\n",
    "- [FreqDist](http://www.nltk.org/api/nltk.html?highlight=freqdist)"
   ]
  },
  {
   "cell_type": "code",
   "execution_count": 17,
   "metadata": {},
   "outputs": [],
   "source": [
    "# Contando a frequencia de cada palavra com a funcao FreqDist\n",
    "freq_full_text = FreqDist(freq_full_text)"
   ]
  },
  {
   "cell_type": "code",
   "execution_count": 18,
   "metadata": {},
   "outputs": [
    {
     "data": {
      "text/plain": [
       "[('brasil', 41),\n",
       " ('país', 25),\n",
       " ('nacional', 23),\n",
       " ('desenvolvimento', 21),\n",
       " ('população', 18),\n",
       " ('ser', 15),\n",
       " ('hoje', 14),\n",
       " ('serviços', 14),\n",
       " ('políticas', 14),\n",
       " ('educação', 13),\n",
       " ('brasileiros', 12),\n",
       " ('saúde', 12),\n",
       " ('anos', 12),\n",
       " ('todos', 11),\n",
       " ('política', 11),\n",
       " ('milhões', 11),\n",
       " ('empregos', 11),\n",
       " ('setor', 11),\n",
       " ('governo', 11),\n",
       " ('ações', 11),\n",
       " ('ensino', 10),\n",
       " ('pessoas', 10),\n",
       " ('públicas', 9),\n",
       " ('vida', 9),\n",
       " ('público', 9),\n",
       " ('vamos', 9),\n",
       " ('mulheres', 9),\n",
       " ('precisa', 8),\n",
       " ('projeto', 8)]"
      ]
     },
     "execution_count": 18,
     "metadata": {},
     "output_type": "execute_result"
    }
   ],
   "source": [
    "# as 100 palavras mais comuns\n",
    "hundred_most_common = freq_full_text.most_common(100)\n",
    "# removendo primeiro elemento da lista ''\n",
    "hundred_most_common = hundred_most_common[1:]\n",
    "# imprime as 10 primeiras\n",
    "hundred_most_common[:29]"
   ]
  },
  {
   "cell_type": "code",
   "execution_count": 32,
   "metadata": {},
   "outputs": [],
   "source": [
    "# \n",
    "x = []\n",
    "y = []\n",
    "for i in hundred_most_common[0:29]:\n",
    "    x.append(i[0])\n",
    "    y.append(i[1])"
   ]
  },
  {
   "cell_type": "code",
   "execution_count": 34,
   "metadata": {},
   "outputs": [
    {
     "data": {
      "text/html": [
       "<div>\n",
       "<style scoped>\n",
       "    .dataframe tbody tr th:only-of-type {\n",
       "        vertical-align: middle;\n",
       "    }\n",
       "\n",
       "    .dataframe tbody tr th {\n",
       "        vertical-align: top;\n",
       "    }\n",
       "\n",
       "    .dataframe thead th {\n",
       "        text-align: right;\n",
       "    }\n",
       "</style>\n",
       "<table border=\"1\" class=\"dataframe\">\n",
       "  <thead>\n",
       "    <tr style=\"text-align: right;\">\n",
       "      <th></th>\n",
       "      <th>frequencia</th>\n",
       "      <th>palavra</th>\n",
       "    </tr>\n",
       "  </thead>\n",
       "  <tbody>\n",
       "    <tr>\n",
       "      <th>0</th>\n",
       "      <td>41</td>\n",
       "      <td>brasil</td>\n",
       "    </tr>\n",
       "    <tr>\n",
       "      <th>1</th>\n",
       "      <td>25</td>\n",
       "      <td>país</td>\n",
       "    </tr>\n",
       "    <tr>\n",
       "      <th>2</th>\n",
       "      <td>23</td>\n",
       "      <td>nacional</td>\n",
       "    </tr>\n",
       "    <tr>\n",
       "      <th>3</th>\n",
       "      <td>21</td>\n",
       "      <td>desenvolvimento</td>\n",
       "    </tr>\n",
       "    <tr>\n",
       "      <th>4</th>\n",
       "      <td>18</td>\n",
       "      <td>população</td>\n",
       "    </tr>\n",
       "  </tbody>\n",
       "</table>\n",
       "</div>"
      ],
      "text/plain": [
       "   frequencia          palavra\n",
       "0          41           brasil\n",
       "1          25             país\n",
       "2          23         nacional\n",
       "3          21  desenvolvimento\n",
       "4          18        população"
      ]
     },
     "execution_count": 34,
     "metadata": {},
     "output_type": "execute_result"
    }
   ],
   "source": [
    "d = {'palavra': x, 'frequencia': y}\n",
    "df_r = pd.DataFrame(d)\n",
    "df_r = df_r.sort_values(['frequencia'], ascending=0)\n",
    "df_r.head()"
   ]
  },
  {
   "cell_type": "code",
   "execution_count": 35,
   "metadata": {},
   "outputs": [],
   "source": [
    "df_r.frequencia = df_r.frequencia/df_r.loc[0, 'frequencia']"
   ]
  },
  {
   "cell_type": "code",
   "execution_count": 36,
   "metadata": {},
   "outputs": [
    {
     "data": {
      "image/png": "[encoded data removed]",
      "text/plain": [
       "<matplotlib.figure.Figure at 0x7f206ee34be0>"
      ]
     },
     "metadata": {},
     "output_type": "display_data"
    }
   ],
   "source": [
    "plt.figure(figsize=(15,10))\n",
    "sns.barplot(df_r.frequencia, df_r.palavra, palette=\"Blues_d\")\n",
    "plt.title(\"Frequencia de palavras no Plano de Governo - Ciro Gomes\")\n",
    "plt.xlabel('frequencia')\n",
    "plt.ylabel('palavras')\n",
    "plt.show()\n"
   ]
  },
  {
   "cell_type": "code",
   "execution_count": 23,
   "metadata": {},
   "outputs": [
    {
     "data": {
      "text/plain": [
       "[('brasil', 41),\n",
       " ('país', 25),\n",
       " ('nacional', 23),\n",
       " ('desenvolvimento', 21),\n",
       " ('população', 18),\n",
       " ('ser', 15),\n",
       " ('hoje', 14),\n",
       " ('serviços', 14),\n",
       " ('políticas', 14),\n",
       " ('educação', 13),\n",
       " ('brasileiros', 12),\n",
       " ('saúde', 12),\n",
       " ('anos', 12),\n",
       " ('todos', 11),\n",
       " ('política', 11),\n",
       " ('milhões', 11),\n",
       " ('empregos', 11),\n",
       " ('setor', 11),\n",
       " ('governo', 11),\n",
       " ('ações', 11),\n",
       " ('ensino', 10),\n",
       " ('pessoas', 10),\n",
       " ('públicas', 9),\n",
       " ('vida', 9),\n",
       " ('público', 9),\n",
       " ('vamos', 9),\n",
       " ('mulheres', 9),\n",
       " ('precisa', 8),\n",
       " ('projeto', 8),\n",
       " ('mil', 8),\n",
       " ('produção', 8),\n",
       " ('ciro', 7),\n",
       " ('oportunidades', 7),\n",
       " ('social', 7),\n",
       " ('ano', 7),\n",
       " ('criar', 7),\n",
       " ('empresas', 7),\n",
       " ('cerca', 7),\n",
       " ('brasileira', 7),\n",
       " ('indústria', 7),\n",
       " ('pública', 7),\n",
       " ('corrupção', 7),\n",
       " ('plano', 7),\n",
       " ('setores', 7),\n",
       " ('conhecimento', 7),\n",
       " ('fundamental', 7),\n",
       " ('qualidade', 7),\n",
       " ('necessário', 7),\n",
       " ('acesso', 7),\n",
       " ('sistema', 7),\n",
       " ('cultura', 7),\n",
       " ('grande', 6),\n",
       " ('recursos', 6),\n",
       " ('outros', 6),\n",
       " ('gerar', 6),\n",
       " ('forma', 6),\n",
       " ('apenas', 6),\n",
       " ('privado', 6),\n",
       " ('investimento', 6),\n",
       " ('defesa', 6),\n",
       " ('dentre', 6),\n",
       " ('investir', 6),\n",
       " ('ambiente', 6),\n",
       " ('exemplo', 6),\n",
       " ('controle', 6),\n",
       " ('ampliar', 6),\n",
       " ('exterior', 6),\n",
       " ('programas', 6),\n",
       " ('gomes', 5),\n",
       " ('mudar', 5),\n",
       " ('igualdade', 5),\n",
       " ('crise', 5),\n",
       " ('contas', 5),\n",
       " ('incluindo', 5),\n",
       " ('número', 5),\n",
       " ('vez', 5),\n",
       " ('justo', 5),\n",
       " ('sobre', 5),\n",
       " ('fazer', 5),\n",
       " ('segurança', 5),\n",
       " ('jovens', 5),\n",
       " ('ainda', 5),\n",
       " ('indústrias', 5),\n",
       " ('trabalho', 5),\n",
       " ('industrial', 5),\n",
       " ('idade', 5),\n",
       " ('ceará', 5),\n",
       " ('deputado', 5),\n",
       " ('públicos', 5),\n",
       " ('redução', 5),\n",
       " ('programa', 5),\n",
       " ('sociedade', 5),\n",
       " ('objetivo', 5),\n",
       " ('metas', 5),\n",
       " ('renda', 5),\n",
       " ('condições', 5),\n",
       " ('média', 5),\n",
       " ('deve', 5),\n",
       " ('menos', 5)]"
      ]
     },
     "execution_count": 23,
     "metadata": {},
     "output_type": "execute_result"
    }
   ],
   "source": [
    "# Lista completa das 100 mais frequentes\n",
    "hundred_most_common"
   ]
  },
  {
   "cell_type": "code",
   "execution_count": 24,
   "metadata": {},
   "outputs": [
    {
     "data": {
      "text/plain": [
       "['brasil',\n",
       " 'país',\n",
       " 'nacional',\n",
       " 'desenvolvimento',\n",
       " 'população',\n",
       " 'ser',\n",
       " 'hoje',\n",
       " 'serviços',\n",
       " 'políticas']"
      ]
     },
     "execution_count": 24,
     "metadata": {},
     "output_type": "execute_result"
    }
   ],
   "source": [
    "words = []\n",
    "for i in hundred_most_common:\n",
    "    words.append(i[0])\n",
    "words[:9]"
   ]
  },
  {
   "cell_type": "code",
   "execution_count": 31,
   "metadata": {},
   "outputs": [],
   "source": [
    "text = full_text[0].split(' ')\n",
    "freq_exp = {}\n",
    "for i in range(len(words)):\n",
    "    for j in range(len(text)):\n",
    "        if words[i] == text[j]:\n",
    "            if text[j-1]:\n",
    "                if text[j+1] == '':\n",
    "                    string = text[j-1] + ' ' + text[j] + ' ' + text[j+2]\n",
    "                else:\n",
    "                    string = text[j-1] + ' ' + text[j] + ' ' + text[j+1]\n",
    "                if not string in freq_exp:\n",
    "                    freq_exp[string] = 1\n",
    "                else:\n",
    "                    freq_exp[string] = freq_exp[string] + 1"
   ]
  },
  {
   "cell_type": "code",
   "execution_count": 30,
   "metadata": {},
   "outputs": [
    {
     "name": "stdout",
     "output_type": "stream",
     "text": [
      "projeto nacional desenvolvimento 5\n",
      "plano nacional educação 2\n",
      "defesa política exterior 2\n",
      "62 mil homicídios 2\n",
      "consolidar plano real 2\n",
      "melhorar qualidade vida 2\n",
      "brasil grande país 2\n",
      "passos mudar brasil 2\n",
      "complexo industrial defesa 2\n"
     ]
    }
   ],
   "source": [
    "# lista das expressoes mais frequentes no texto que usam palavras mais frequentes (lista anterior)\n",
    "for key, value in freq_exp.items():\n",
    "    if value >=2:\n",
    "        print(key, value)"
   ]
  },
  {
   "cell_type": "code",
   "execution_count": null,
   "metadata": {},
   "outputs": [],
   "source": []
  }
 ],
 "metadata": {
  "kernelspec": {
   "display_name": "Python 3",
   "language": "python",
   "name": "python3"
  },
  "language_info": {
   "codemirror_mode": {
    "name": "ipython",
    "version": 3
   },
   "file_extension": ".py",
   "mimetype": "text/x-python",
   "name": "python",
   "nbconvert_exporter": "python",
   "pygments_lexer": "ipython3",
   "version": "3.6.4"
  }
 },
 "nbformat": 4,
 "nbformat_minor": 2
}
