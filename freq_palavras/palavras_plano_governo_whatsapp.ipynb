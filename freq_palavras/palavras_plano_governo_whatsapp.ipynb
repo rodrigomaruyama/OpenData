{
 "cells": [
  {
   "cell_type": "markdown",
   "metadata": {},
   "source": [
    "### Contagem das palavras mais usadas no grupo whatsapp eletrica"
   ]
  },
  {
   "cell_type": "markdown",
   "metadata": {},
   "source": [
    "#### Importacao de bibliotecas"
   ]
  },
  {
   "cell_type": "code",
   "execution_count": 1,
   "metadata": {},
   "outputs": [],
   "source": [
    "import pandas as pd\n",
    "import numpy as np\n",
    "# http://scikit-learn.org/stable/modules/feature_extraction.html#text-feature-extraction\n",
    "from sklearn.feature_extraction.text import CountVectorizer\n",
    "import string\n",
    "from nltk.corpus import stopwords\n",
    "from nltk import *\n",
    "from matplotlib import pyplot as plt\n",
    "import seaborn as sns\n",
    "%matplotlib inline"
   ]
  },
  {
   "cell_type": "code",
   "execution_count": 2,
   "metadata": {},
   "outputs": [
    {
     "name": "stdout",
     "output_type": "stream",
     "text": [
      "original\t\t\t   palavras_plano_governo_psl.ipynb\r\n",
      "palavras_plano_governo_mdb.ipynb   palavras_plano_governo_rede.ipynb\r\n",
      "palavras_plano_governo_novo.ipynb  palavras_plano_governo_whatsapp.ipynb\r\n",
      "palavras_plano_governo_pdt.ipynb   panlex_lite.zip\r\n",
      "palavras_plano_governo_psdb.ipynb  text\r\n"
     ]
    }
   ],
   "source": [
    "!ls"
   ]
  },
  {
   "cell_type": "markdown",
   "metadata": {},
   "source": [
    "### Leitura do arquivo transformado em texto do original em pdf"
   ]
  },
  {
   "cell_type": "code",
   "execution_count": 4,
   "metadata": {},
   "outputs": [],
   "source": [
    "with open('text/grupe_eletrica.txt', 'r', encoding='UTF-8') as pl:\n",
    "    big_string = ''\n",
    "    for line in pl:\n",
    "        split_line = line.split(' ')\n",
    "        for word in split_line:\n",
    "            big_string = big_string + ' ' + word"
   ]
  },
  {
   "cell_type": "code",
   "execution_count": 5,
   "metadata": {},
   "outputs": [],
   "source": [
    "# criacao de lista de simbolos de pontuacao\n",
    "punctuation = string.punctuation"
   ]
  },
  {
   "cell_type": "code",
   "execution_count": 6,
   "metadata": {},
   "outputs": [],
   "source": [
    "# removendo quebras de linha '\\n'\n",
    "big_string = big_string.replace('\\n ', ' ')"
   ]
  },
  {
   "cell_type": "code",
   "execution_count": 7,
   "metadata": {},
   "outputs": [],
   "source": [
    "# retirando pontuacao\n",
    "for p in punctuation:\n",
    "    big_string = big_string.replace(p, '')"
   ]
  },
  {
   "cell_type": "code",
   "execution_count": 8,
   "metadata": {},
   "outputs": [],
   "source": [
    "# convertendo tudo para lower case\n",
    "big_string = big_string.lower()"
   ]
  },
  {
   "cell_type": "code",
   "execution_count": 9,
   "metadata": {},
   "outputs": [
    {
     "data": {
      "text/plain": [
       "' 3217 1908  messages to this group are now secured with endtoend encryption tap for more info 3217 1908  \\u202a55 12 997452997\\u202c created group eletrica 1994 3217 1908  \\u202a55 12 997452997\\u202c added you 3217 1908  \\u202a55 12 997452997\\u202c changed this groups icon 3217 1910  \\u202a55 12 997452997\\u202c added \\u202a55 35 91120391\\u202c 3217 1912  youre now an admin 3217 1912  \\u202a55 11 986330162\\u202c aleluia 3217 1912  \\u202a55 12 997452997\\u202c finally hehehe 3217 1913  \\u202a55 12 997452997\\u202c galera não consegui o telefone do rapaizinho mourão cabeça betiol evandro morita pizolato e do ramon 3217 1914  \\u202a55 12 997452997\\u202c quem souber adiciona os caras ai 3217 1914  \\u202a55 12 982712222\\u202c aleluia 3217 1915  \\u202a55 12 982712222\\u202c segue o ultimo telefone que tenho do mourao 55 12 981132570 3217 1917  rod boa 3217 1919  \\u202a55 35 92421030\\u202c 🤘🏼 3217 1921  \\u202a55 19 981778037\\u202c 👍🏻 3217 1922  \\u202a55 12 997452997\\u202c added \\u202a55 12 981942972\\u202c 3217 1924  \\u202a55 11 999750041\\u202c cabeçavcf file attached 3217 1925  \\u202a55 91 91008521\\u202c aleluia 3217 1925  \\u202a55 11 999750041\\u202c até que enfim galera s'"
      ]
     },
     "execution_count": 9,
     "metadata": {},
     "output_type": "execute_result"
    }
   ],
   "source": [
    "# checando a conversao\n",
    "big_string[0:1000]"
   ]
  },
  {
   "cell_type": "code",
   "execution_count": 10,
   "metadata": {},
   "outputs": [
    {
     "data": {
      "text/plain": [
       "385842"
      ]
     },
     "execution_count": 10,
     "metadata": {},
     "output_type": "execute_result"
    }
   ],
   "source": [
    "# comprimento da string\n",
    "len(big_string)"
   ]
  },
  {
   "cell_type": "code",
   "execution_count": 11,
   "metadata": {},
   "outputs": [],
   "source": [
    "# nltk.download() # rodar apenas uma vez para baixar os pacotes"
   ]
  },
  {
   "cell_type": "code",
   "execution_count": 12,
   "metadata": {},
   "outputs": [],
   "source": [
    "# lista de stopwords em portugues\n",
    "stop_words = stopwords.words('portuguese')"
   ]
  },
  {
   "cell_type": "code",
   "execution_count": 13,
   "metadata": {},
   "outputs": [
    {
     "data": {
      "text/plain": [
       "203"
      ]
     },
     "execution_count": 13,
     "metadata": {},
     "output_type": "execute_result"
    }
   ],
   "source": [
    "# numero de stopwords\n",
    "len(stop_words)"
   ]
  },
  {
   "cell_type": "code",
   "execution_count": 29,
   "metadata": {},
   "outputs": [],
   "source": [
    "# aparando os detalhes\n",
    "full_text = big_string\n",
    "for s_word in stop_words:\n",
    "    s_word = ' ' + s_word + ' '\n",
    "    full_text = full_text.replace(s_word, ' ')\n",
    "    full_text = full_text.replace(' é ', ' ')\n",
    "    full_text = full_text.replace(' – ', ' ')\n",
    "    full_text = full_text.replace(' • ', ' ')\n",
    "    full_text = full_text.replace('\\u202a55', '')\n",
    "    full_text = full_text.replace('35', '')\n",
    "    full_text = full_text.replace('11', '')\n",
    "    full_text = full_text.replace('19', '')\n",
    "    full_text = full_text.replace('12', '')\n",
    "    full_text = full_text.replace('43', '')\n",
    "    full_text = full_text.replace('96661544\\u202c', '')\n",
    "    full_text = full_text.replace('996017075\\u202c', '')\n",
    "    full_text = full_text.replace('981132570\\u202c', '')\n",
    "    full_text = full_text.replace('982386831\\u202c', '')\n",
    "    full_text = full_text.replace('971400429\\u202c', '')\n",
    "    full_text = full_text.replace('995489659\\u202c', '')\n",
    "    full_text = full_text.replace('976393427\\u202c', '')"
   ]
  },
  {
   "cell_type": "code",
   "execution_count": 30,
   "metadata": {},
   "outputs": [
    {
     "data": {
      "text/plain": [
       "285215"
      ]
     },
     "execution_count": 30,
     "metadata": {},
     "output_type": "execute_result"
    }
   ],
   "source": [
    "# tamanho do texto apos limpeza\n",
    "len(full_text)"
   ]
  },
  {
   "cell_type": "code",
   "execution_count": 31,
   "metadata": {},
   "outputs": [
    {
     "data": {
      "text/plain": [
       "100627"
      ]
     },
     "execution_count": 31,
     "metadata": {},
     "output_type": "execute_result"
    }
   ],
   "source": [
    "# quantidade de caracteres removidos\n",
    "len(big_string)-len(full_text)"
   ]
  },
  {
   "cell_type": "code",
   "execution_count": 32,
   "metadata": {},
   "outputs": [],
   "source": [
    "# transformando a string em lista\n",
    "full_text = [full_text]"
   ]
  },
  {
   "cell_type": "code",
   "execution_count": 33,
   "metadata": {},
   "outputs": [],
   "source": [
    "# separando palavra por palavra\n",
    "freq_full_text = full_text[0].split(' ')"
   ]
  },
  {
   "cell_type": "markdown",
   "metadata": {},
   "source": [
    "### Documentacao FreqDist\n",
    "\n",
    "- [FreqDist](http://www.nltk.org/api/nltk.html?highlight=freqdist)"
   ]
  },
  {
   "cell_type": "code",
   "execution_count": 34,
   "metadata": {},
   "outputs": [],
   "source": [
    "# Contando a frequencia de cada palavra com a funcao FreqDist\n",
    "freq_full_text = FreqDist(freq_full_text)"
   ]
  },
  {
   "cell_type": "code",
   "execution_count": 35,
   "metadata": {},
   "outputs": [
    {
     "data": {
      "text/plain": [
       "[('media', 1439),\n",
       " ('omitted', 1438),\n",
       " ('9832570\\u202c', 349),\n",
       " ('sinotti', 203),\n",
       " ('pra', 169),\n",
       " ('parabéns', 164),\n",
       " ('17', 160),\n",
       " ('bicudo', 136),\n",
       " ('92421030\\u202c', 134),\n",
       " ('vai', 134),\n",
       " ('9832974\\u202c', 134),\n",
       " ('997452997\\u202c', 117),\n",
       " ('lula', 112),\n",
       " ('dia', 107),\n",
       " ('ser', 102),\n",
       " ('18', 100),\n",
       " ('brasil', 99),\n",
       " ('920391\\u202c', 96),\n",
       " ('todos', 89),\n",
       " ('8', 86),\n",
       " ('vc', 81),\n",
       " ('sobre', 75),\n",
       " ('138', 73),\n",
       " ('grande', 72),\n",
       " ('felicidades', 72),\n",
       " ('sim', 69),\n",
       " ('517', 69),\n",
       " ('fazer', 68),\n",
       " ('mecanismo', 68),\n",
       " ('997894893\\u202c', 67),\n",
       " ('9988344\\u202c', 67),\n",
       " ('\\u202a1', 66),\n",
       " ('8886020\\u202c', 66),\n",
       " ('eh', 66),\n",
       " ('agora', 65),\n",
       " ('27', 64),\n",
       " ('boa', 63),\n",
       " ('anos', 63),\n",
       " ('r', 63),\n",
       " ('bom', 62),\n",
       " ('vamos', 62),\n",
       " ('20', 61),\n",
       " ('tá', 61),\n",
       " ('pessoas', 61),\n",
       " ('tudo', 60),\n",
       " ('2017', 58),\n",
       " ('717', 57),\n",
       " ('pode', 56),\n",
       " ('aí', 55),\n",
       " ('mãe', 55),\n",
       " ('1017', 55),\n",
       " ('gente', 54),\n",
       " ('ter', 53),\n",
       " ('muita', 53),\n",
       " ('10', 52),\n",
       " ('418', 52),\n",
       " ('aqui', 51),\n",
       " ('hoje', 51),\n",
       " ('saúde', 50),\n",
       " ('bem', 48),\n",
       " ('kkkk', 48),\n",
       " ('casa', 48),\n",
       " ('22', 47),\n",
       " ('25', 47),\n",
       " ('28', 47),\n",
       " ('paulo', 47),\n",
       " ('3217', 46),\n",
       " ('assim', 46),\n",
       " ('acho', 45),\n",
       " ('país', 45),\n",
       " ('23', 45),\n",
       " ('porque', 44),\n",
       " ('melhor', 44),\n",
       " ('981042975\\u202c', 44),\n",
       " ('→', 44),\n",
       " ('lá', 43),\n",
       " ('ainda', 43),\n",
       " ('nada', 43),\n",
       " ('ensinou', 43),\n",
       " ('62417', 43),\n",
       " ('faz', 42),\n",
       " ('estado', 42),\n",
       " ('vez', 42),\n",
       " ('trabalho', 42),\n",
       " ('cabeça', 41),\n",
       " ('sabe', 41),\n",
       " ('povo', 41),\n",
       " ('contra', 41),\n",
       " ('temer', 41),\n",
       " ('valeu', 40),\n",
       " ('tempo', 40),\n",
       " ('q', 40),\n",
       " ('existe', 40),\n",
       " ('62517', 40),\n",
       " ('21', 39),\n",
       " ('vou', 39),\n",
       " ('palmeiras', 39),\n",
       " ('abraço', 38),\n",
       " ('26', 38)]"
      ]
     },
     "execution_count": 35,
     "metadata": {},
     "output_type": "execute_result"
    }
   ],
   "source": [
    "# as 100 palavras mais comuns\n",
    "hundred_most_common = freq_full_text.most_common(100)\n",
    "# removendo primeiro elemento da lista ''\n",
    "hundred_most_common = hundred_most_common[1:]\n",
    "# imprime as 10 primeiras\n",
    "hundred_most_common[:99]"
   ]
  },
  {
   "cell_type": "code",
   "execution_count": 19,
   "metadata": {},
   "outputs": [],
   "source": [
    "# \n",
    "x = []\n",
    "y = []\n",
    "for i in hundred_most_common[0:29]:\n",
    "    x.append(i[0])\n",
    "    y.append(i[1])"
   ]
  },
  {
   "cell_type": "code",
   "execution_count": 20,
   "metadata": {},
   "outputs": [
    {
     "data": {
      "text/html": [
       "<div>\n",
       "<style scoped>\n",
       "    .dataframe tbody tr th:only-of-type {\n",
       "        vertical-align: middle;\n",
       "    }\n",
       "\n",
       "    .dataframe tbody tr th {\n",
       "        vertical-align: top;\n",
       "    }\n",
       "\n",
       "    .dataframe thead th {\n",
       "        text-align: right;\n",
       "    }\n",
       "</style>\n",
       "<table border=\"1\" class=\"dataframe\">\n",
       "  <thead>\n",
       "    <tr style=\"text-align: right;\">\n",
       "      <th></th>\n",
       "      <th>frequencia</th>\n",
       "      <th>palavra</th>\n",
       "    </tr>\n",
       "  </thead>\n",
       "  <tbody>\n",
       "    <tr>\n",
       "      <th>0</th>\n",
       "      <td>42</td>\n",
       "      <td>brasil</td>\n",
       "    </tr>\n",
       "    <tr>\n",
       "      <th>1</th>\n",
       "      <td>29</td>\n",
       "      <td>governo</td>\n",
       "    </tr>\n",
       "    <tr>\n",
       "      <th>2</th>\n",
       "      <td>21</td>\n",
       "      <td>meirelles</td>\n",
       "    </tr>\n",
       "    <tr>\n",
       "      <th>3</th>\n",
       "      <td>20</td>\n",
       "      <td>país</td>\n",
       "    </tr>\n",
       "    <tr>\n",
       "      <th>4</th>\n",
       "      <td>16</td>\n",
       "      <td>anos</td>\n",
       "    </tr>\n",
       "    <tr>\n",
       "      <th>5</th>\n",
       "      <td>16</td>\n",
       "      <td>infraestrutura</td>\n",
       "    </tr>\n",
       "    <tr>\n",
       "      <th>6</th>\n",
       "      <td>14</td>\n",
       "      <td>sistema</td>\n",
       "    </tr>\n",
       "    <tr>\n",
       "      <th>8</th>\n",
       "      <td>13</td>\n",
       "      <td>saúde</td>\n",
       "    </tr>\n",
       "    <tr>\n",
       "      <th>7</th>\n",
       "      <td>13</td>\n",
       "      <td>maior</td>\n",
       "    </tr>\n",
       "    <tr>\n",
       "      <th>9</th>\n",
       "      <td>11</td>\n",
       "      <td>todos</td>\n",
       "    </tr>\n",
       "    <tr>\n",
       "      <th>10</th>\n",
       "      <td>10</td>\n",
       "      <td>segurança</td>\n",
       "    </tr>\n",
       "    <tr>\n",
       "      <th>11</th>\n",
       "      <td>9</td>\n",
       "      <td>integrado</td>\n",
       "    </tr>\n",
       "    <tr>\n",
       "      <th>12</th>\n",
       "      <td>9</td>\n",
       "      <td>pib</td>\n",
       "    </tr>\n",
       "    <tr>\n",
       "      <th>13</th>\n",
       "      <td>9</td>\n",
       "      <td>investimento</td>\n",
       "    </tr>\n",
       "    <tr>\n",
       "      <th>18</th>\n",
       "      <td>8</td>\n",
       "      <td>federal</td>\n",
       "    </tr>\n",
       "    <tr>\n",
       "      <th>20</th>\n",
       "      <td>8</td>\n",
       "      <td>obras</td>\n",
       "    </tr>\n",
       "    <tr>\n",
       "      <th>19</th>\n",
       "      <td>8</td>\n",
       "      <td>qualidade</td>\n",
       "    </tr>\n",
       "    <tr>\n",
       "      <th>14</th>\n",
       "      <td>8</td>\n",
       "      <td>confiança</td>\n",
       "    </tr>\n",
       "    <tr>\n",
       "      <th>17</th>\n",
       "      <td>8</td>\n",
       "      <td>educação</td>\n",
       "    </tr>\n",
       "    <tr>\n",
       "      <th>16</th>\n",
       "      <td>8</td>\n",
       "      <td>trabalho</td>\n",
       "    </tr>\n",
       "    <tr>\n",
       "      <th>15</th>\n",
       "      <td>8</td>\n",
       "      <td>política</td>\n",
       "    </tr>\n",
       "    <tr>\n",
       "      <th>21</th>\n",
       "      <td>7</td>\n",
       "      <td>brasileiros</td>\n",
       "    </tr>\n",
       "    <tr>\n",
       "      <th>22</th>\n",
       "      <td>7</td>\n",
       "      <td>forte</td>\n",
       "    </tr>\n",
       "    <tr>\n",
       "      <th>23</th>\n",
       "      <td>7</td>\n",
       "      <td>crescimento</td>\n",
       "    </tr>\n",
       "    <tr>\n",
       "      <th>24</th>\n",
       "      <td>7</td>\n",
       "      <td>públicos</td>\n",
       "    </tr>\n",
       "    <tr>\n",
       "      <th>25</th>\n",
       "      <td>7</td>\n",
       "      <td>serviços</td>\n",
       "    </tr>\n",
       "    <tr>\n",
       "      <th>26</th>\n",
       "      <td>7</td>\n",
       "      <td>população</td>\n",
       "    </tr>\n",
       "    <tr>\n",
       "      <th>27</th>\n",
       "      <td>7</td>\n",
       "      <td>ser</td>\n",
       "    </tr>\n",
       "    <tr>\n",
       "      <th>28</th>\n",
       "      <td>7</td>\n",
       "      <td>recursos</td>\n",
       "    </tr>\n",
       "  </tbody>\n",
       "</table>\n",
       "</div>"
      ],
      "text/plain": [
       "    frequencia         palavra\n",
       "0           42          brasil\n",
       "1           29         governo\n",
       "2           21       meirelles\n",
       "3           20            país\n",
       "4           16            anos\n",
       "5           16  infraestrutura\n",
       "6           14         sistema\n",
       "8           13           saúde\n",
       "7           13           maior\n",
       "9           11           todos\n",
       "10          10       segurança\n",
       "11           9       integrado\n",
       "12           9             pib\n",
       "13           9    investimento\n",
       "18           8         federal\n",
       "20           8           obras\n",
       "19           8       qualidade\n",
       "14           8       confiança\n",
       "17           8        educação\n",
       "16           8        trabalho\n",
       "15           8        política\n",
       "21           7     brasileiros\n",
       "22           7           forte\n",
       "23           7     crescimento\n",
       "24           7        públicos\n",
       "25           7        serviços\n",
       "26           7       população\n",
       "27           7             ser\n",
       "28           7        recursos"
      ]
     },
     "execution_count": 20,
     "metadata": {},
     "output_type": "execute_result"
    }
   ],
   "source": [
    "d = {'palavra': x, 'frequencia': y}\n",
    "df_r = pd.DataFrame(d)\n",
    "df_r = df_r.sort_values(['frequencia'], ascending=0)\n",
    "df_r"
   ]
  },
  {
   "cell_type": "code",
   "execution_count": 21,
   "metadata": {},
   "outputs": [],
   "source": [
    "df_r.frequencia = df_r.frequencia/df_r.loc[0, 'frequencia']"
   ]
  },
  {
   "cell_type": "code",
   "execution_count": 22,
   "metadata": {},
   "outputs": [
    {
     "data": {
      "image/png": "[encoded data removed]",
      "text/plain": [
       "<matplotlib.figure.Figure at 0x7ff54dc73710>"
      ]
     },
     "metadata": {},
     "output_type": "display_data"
    }
   ],
   "source": [
    "plt.figure(figsize=(15,10))\n",
    "sns.barplot(df_r.frequencia, df_r.palavra, palette=\"Blues_d\")\n",
    "plt.title(\"Frequencia de palavras no Plano de Governo - MDB\")\n",
    "#plt.xticks(rotation=90)\n",
    "plt.xlabel('frequencia')\n",
    "plt.ylabel('palavras')\n",
    "plt.show()"
   ]
  },
  {
   "cell_type": "code",
   "execution_count": 23,
   "metadata": {},
   "outputs": [
    {
     "data": {
      "text/plain": [
       "[('brasil', 42),\n",
       " ('governo', 29),\n",
       " ('meirelles', 21),\n",
       " ('país', 20),\n",
       " ('anos', 16),\n",
       " ('infraestrutura', 16),\n",
       " ('sistema', 14),\n",
       " ('maior', 13),\n",
       " ('saúde', 13),\n",
       " ('todos', 11),\n",
       " ('segurança', 10),\n",
       " ('integrado', 9),\n",
       " ('pib', 9),\n",
       " ('investimento', 9),\n",
       " ('confiança', 8),\n",
       " ('política', 8),\n",
       " ('trabalho', 8),\n",
       " ('educação', 8),\n",
       " ('federal', 8),\n",
       " ('qualidade', 8),\n",
       " ('obras', 8),\n",
       " ('brasileiros', 7),\n",
       " ('forte', 7),\n",
       " ('crescimento', 7),\n",
       " ('públicos', 7),\n",
       " ('serviços', 7),\n",
       " ('população', 7),\n",
       " ('ser', 7),\n",
       " ('recursos', 7),\n",
       " ('humano', 6),\n",
       " ('empregos', 6),\n",
       " ('aumentar', 6),\n",
       " ('criação', 6),\n",
       " ('taxa', 6),\n",
       " ('segundo', 6),\n",
       " ('setor', 6),\n",
       " ('ações', 6),\n",
       " ('investimentos', 6),\n",
       " ('apenas', 6),\n",
       " ('r', 6),\n",
       " ('15', 5),\n",
       " ('precisa', 5),\n",
       " ('henrique', 5),\n",
       " ('seguro', 5),\n",
       " ('banco', 5),\n",
       " ('milhões', 5),\n",
       " ('primeiro', 5),\n",
       " ('mercado', 5),\n",
       " ('pessoas', 5),\n",
       " ('idade', 5),\n",
       " ('novas', 5),\n",
       " ('condições', 5),\n",
       " ('forma', 5),\n",
       " ('social', 5),\n",
       " ('vai', 5),\n",
       " ('ensino', 5),\n",
       " ('sociedade', 5),\n",
       " ('cada', 5),\n",
       " ('pública', 5),\n",
       " ('bilhões', 5),\n",
       " ('mundo', 5),\n",
       " ('inteligência', 5),\n",
       " ('necessário', 5),\n",
       " ('ampliar', 5),\n",
       " ('expansão', 5),\n",
       " ('nacional', 5),\n",
       " ('violência', 5),\n",
       " ('mil', 5),\n",
       " ('defesa', 5),\n",
       " ('homens', 4),\n",
       " ('outros', 4),\n",
       " ('desenvolvimento', 4),\n",
       " ('produtividade', 4),\n",
       " ('ano', 4),\n",
       " ('novos', 4),\n",
       " ('economia', 4),\n",
       " ('resultado', 4),\n",
       " ('enorme', 4),\n",
       " ('exemplo', 4),\n",
       " ('média', 4),\n",
       " ('três', 4),\n",
       " ('ainda', 4),\n",
       " ('mão', 4),\n",
       " ('obra', 4),\n",
       " ('grande', 4),\n",
       " ('previdência', 4),\n",
       " ('emprego', 4),\n",
       " ('todo', 4),\n",
       " ('processo', 4),\n",
       " ('gastos', 4),\n",
       " ('maiores', 4),\n",
       " ('duas', 4),\n",
       " ('estados', 4),\n",
       " ('importantes', 4),\n",
       " ('cidadãos', 4),\n",
       " ('todas', 4),\n",
       " ('estado', 4),\n",
       " ('meio', 4),\n",
       " ('público', 4)]"
      ]
     },
     "execution_count": 23,
     "metadata": {},
     "output_type": "execute_result"
    }
   ],
   "source": [
    "# Lista completa das 100 mais frequentes\n",
    "hundred_most_common"
   ]
  },
  {
   "cell_type": "code",
   "execution_count": 24,
   "metadata": {},
   "outputs": [
    {
     "data": {
      "text/plain": [
       "['brasil',\n",
       " 'governo',\n",
       " 'meirelles',\n",
       " 'país',\n",
       " 'anos',\n",
       " 'infraestrutura',\n",
       " 'sistema',\n",
       " 'maior',\n",
       " 'saúde']"
      ]
     },
     "execution_count": 24,
     "metadata": {},
     "output_type": "execute_result"
    }
   ],
   "source": [
    "words = []\n",
    "for i in hundred_most_common:\n",
    "    words.append(i[0])\n",
    "words[:9]"
   ]
  },
  {
   "cell_type": "code",
   "execution_count": 25,
   "metadata": {},
   "outputs": [],
   "source": [
    "text = full_text[0].split(' ')\n",
    "freq_exp = {}\n",
    "for i in range(len(words)):\n",
    "    for j in range(len(text)):\n",
    "        if words[i] == text[j]:\n",
    "            if text[j-1]:\n",
    "                if text[j+1] == '':\n",
    "                    string = text[j-1] + ' ' + text[j] + ' ' + text[j+2]\n",
    "                else:\n",
    "                    string = text[j-1] + ' ' + text[j] + ' ' + text[j+1]\n",
    "                if not string in freq_exp:\n",
    "                    freq_exp[string] = 1\n",
    "                else:\n",
    "                    freq_exp[string] = freq_exp[string] + 1"
   ]
  },
  {
   "cell_type": "code",
   "execution_count": 26,
   "metadata": {},
   "outputs": [
    {
     "name": "stdout",
     "output_type": "stream",
     "text": [
      "governo meirelles vai 5\n",
      "governo meirelles fará 2\n",
      "reformar sistema penitenciário 2\n",
      "brasil humano brasil 2\n",
      "candidatura henrique meirelles 2\n",
      "meirelles vai estabelecer 2\n",
      "100 mil habitantes 2\n"
     ]
    }
   ],
   "source": [
    "# lista das expressoes mais frequentes no texto que usam palavras mais frequentes (lista anterior)\n",
    "for key, value in freq_exp.items():\n",
    "    if value >=2:\n",
    "        print(key, value)"
   ]
  },
  {
   "cell_type": "code",
   "execution_count": null,
   "metadata": {},
   "outputs": [],
   "source": []
  }
 ],
 "metadata": {
  "kernelspec": {
   "display_name": "Python 3",
   "language": "python",
   "name": "python3"
  },
  "language_info": {
   "codemirror_mode": {
    "name": "ipython",
    "version": 3
   },
   "file_extension": ".py",
   "mimetype": "text/x-python",
   "name": "python",
   "nbconvert_exporter": "python",
   "pygments_lexer": "ipython3",
   "version": "3.6.4"
  }
 },
 "nbformat": 4,
 "nbformat_minor": 2
}
