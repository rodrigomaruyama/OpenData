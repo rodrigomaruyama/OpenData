{
 "cells": [
  {
   "cell_type": "markdown",
   "metadata": {},
   "source": [
    "### Contagem das palavras mais usadas no Plano de governo - Rede"
   ]
  },
  {
   "cell_type": "markdown",
   "metadata": {},
   "source": [
    "#### Importacao de bibliotecas"
   ]
  },
  {
   "cell_type": "code",
   "execution_count": 1,
   "metadata": {},
   "outputs": [],
   "source": [
    "import pandas as pd\n",
    "import numpy as np\n",
    "# http://scikit-learn.org/stable/modules/feature_extraction.html#text-feature-extraction\n",
    "from sklearn.feature_extraction.text import CountVectorizer\n",
    "import string\n",
    "from nltk.corpus import stopwords\n",
    "from nltk import *\n",
    "from matplotlib import pyplot as plt\n",
    "import seaborn as sns\n",
    "%matplotlib inline"
   ]
  },
  {
   "cell_type": "markdown",
   "metadata": {},
   "source": [
    "### Link do plano de governo\n",
    "\n",
    "- [Plano de governo](https://marinasilva.org.br/wp-content/uploads/2018/08/MS18-Diretrizes-Marina-Edu.pdf)\n",
    "\n",
    "### Conversao pdf to text\n",
    "\n",
    "- Utilizei esse site on-line [https://pdftotext.com/](https://pdftotext.com/)"
   ]
  },
  {
   "cell_type": "markdown",
   "metadata": {},
   "source": [
    "### Leitura do arquivo transformado em texto do original em pdf"
   ]
  },
  {
   "cell_type": "code",
   "execution_count": 2,
   "metadata": {},
   "outputs": [],
   "source": [
    "with open('text/plano_governo_rede.txt', 'r', encoding='UTF-8') as pl:\n",
    "    big_string = ''\n",
    "    for line in pl:\n",
    "        split_line = line.split(' ')\n",
    "        for word in split_line:\n",
    "            big_string = big_string + ' ' + word"
   ]
  },
  {
   "cell_type": "code",
   "execution_count": 3,
   "metadata": {},
   "outputs": [],
   "source": [
    "# criacao de lista de simbolos de pontuacao\n",
    "punctuation = string.punctuation"
   ]
  },
  {
   "cell_type": "code",
   "execution_count": 4,
   "metadata": {},
   "outputs": [],
   "source": [
    "# removendo quebras de linha '\\n'\n",
    "big_string = big_string.replace('\\n ', ' ')"
   ]
  },
  {
   "cell_type": "code",
   "execution_count": 5,
   "metadata": {},
   "outputs": [],
   "source": [
    "# retirando pontuacao\n",
    "for p in punctuation:\n",
    "    big_string = big_string.replace(p, '')"
   ]
  },
  {
   "cell_type": "code",
   "execution_count": 6,
   "metadata": {},
   "outputs": [],
   "source": [
    "# convertendo tudo para lower case\n",
    "big_string = big_string.lower()"
   ]
  },
  {
   "cell_type": "code",
   "execution_count": 7,
   "metadata": {},
   "outputs": [
    {
     "data": {
      "text/plain": [
       "' marina silva presidente eduardo jorge vice brasil justo ético próspero e sustentável coligação unidos para transformar o brasil  rede  pv 1  \\x0cbrasil justo ético próspero e sustentável vivemos um momento de desesperança profunda com a política e os políticos interesses privilégios e corrupção sabotam a confiança dos brasileiros na possibilidade de um país justo ético próspero e sustentável ao mesmo tempo estamos nos aproximando das eleições quando teremos a oportunidade de tomar uma decisão muito importante para o nosso futuro reafirmando a democracia diante das incertezas que temos dos problemas que enfrentamos e dos discursos extremistas que surgem para nos dividir nos próximos meses a palavra mudar será usada à exaustão inclusive por muitos que foram protagonistas do passado e que criaram os problemas do presente e agora querem convencer o eleitor de que serão capazes de comandar a difícil travessia que o brasil precisa fazer não serão é o momento de dar um basta na velha política –'"
      ]
     },
     "execution_count": 7,
     "metadata": {},
     "output_type": "execute_result"
    }
   ],
   "source": [
    "# checando a conversao\n",
    "big_string[0:1000]"
   ]
  },
  {
   "cell_type": "code",
   "execution_count": 8,
   "metadata": {},
   "outputs": [
    {
     "data": {
      "text/plain": [
       "101190"
      ]
     },
     "execution_count": 8,
     "metadata": {},
     "output_type": "execute_result"
    }
   ],
   "source": [
    "# comprimento da string\n",
    "len(big_string)"
   ]
  },
  {
   "cell_type": "code",
   "execution_count": 9,
   "metadata": {},
   "outputs": [],
   "source": [
    "# nltk.download() # rodar apenas uma vez para baixar os pacotes"
   ]
  },
  {
   "cell_type": "code",
   "execution_count": 10,
   "metadata": {},
   "outputs": [],
   "source": [
    "# lista de stopwords em portugues\n",
    "stop_words = stopwords.words('portuguese')"
   ]
  },
  {
   "cell_type": "code",
   "execution_count": 11,
   "metadata": {},
   "outputs": [
    {
     "data": {
      "text/plain": [
       "203"
      ]
     },
     "execution_count": 11,
     "metadata": {},
     "output_type": "execute_result"
    }
   ],
   "source": [
    "# numero de stopwords\n",
    "len(stop_words)"
   ]
  },
  {
   "cell_type": "code",
   "execution_count": 12,
   "metadata": {},
   "outputs": [],
   "source": [
    "# aparando os detalhes\n",
    "full_text = big_string\n",
    "for s_word in stop_words:\n",
    "    s_word = ' ' + s_word + ' '\n",
    "    full_text = full_text.replace(s_word, ' ')\n",
    "    full_text = full_text.replace(' é ', ' ')\n",
    "    full_text = full_text.replace(' – ', ' ')\n",
    "    full_text = full_text.replace(' • ', ' ')"
   ]
  },
  {
   "cell_type": "code",
   "execution_count": 13,
   "metadata": {},
   "outputs": [
    {
     "data": {
      "text/plain": [
       "80967"
      ]
     },
     "execution_count": 13,
     "metadata": {},
     "output_type": "execute_result"
    }
   ],
   "source": [
    "# tamanho do texto apos limpeza\n",
    "len(full_text)"
   ]
  },
  {
   "cell_type": "code",
   "execution_count": 14,
   "metadata": {},
   "outputs": [
    {
     "data": {
      "text/plain": [
       "20223"
      ]
     },
     "execution_count": 14,
     "metadata": {},
     "output_type": "execute_result"
    }
   ],
   "source": [
    "# quantidade de caracteres removidos\n",
    "len(big_string)-len(full_text)"
   ]
  },
  {
   "cell_type": "code",
   "execution_count": 15,
   "metadata": {},
   "outputs": [],
   "source": [
    "# transformando a string em lista\n",
    "full_text = [full_text]"
   ]
  },
  {
   "cell_type": "code",
   "execution_count": 16,
   "metadata": {},
   "outputs": [],
   "source": [
    "# separando palavra por palavra\n",
    "freq_full_text = full_text[0].split(' ')"
   ]
  },
  {
   "cell_type": "markdown",
   "metadata": {},
   "source": [
    "### Documentacao FreqDist\n",
    "\n",
    "- [FreqDist](http://www.nltk.org/api/nltk.html?highlight=freqdist)"
   ]
  },
  {
   "cell_type": "code",
   "execution_count": 17,
   "metadata": {},
   "outputs": [],
   "source": [
    "# Contando a frequencia de cada palavra com a funcao FreqDist\n",
    "freq_full_text = FreqDist(freq_full_text)"
   ]
  },
  {
   "cell_type": "code",
   "execution_count": 18,
   "metadata": {},
   "outputs": [
    {
     "data": {
      "text/plain": [
       "[('brasil', 66),\n",
       " ('políticas', 57),\n",
       " ('política', 48),\n",
       " ('saúde', 42),\n",
       " ('país', 38),\n",
       " ('desenvolvimento', 37),\n",
       " ('nacional', 36),\n",
       " ('educação', 34),\n",
       " ('acesso', 34),\n",
       " ('municípios', 32),\n",
       " ('serviços', 32),\n",
       " ('meio', 32),\n",
       " ('qualidade', 31),\n",
       " ('recursos', 31),\n",
       " ('forma', 31),\n",
       " ('promoveremos', 30),\n",
       " ('social', 29),\n",
       " ('ser', 28),\n",
       " ('uso', 27),\n",
       " ('economia', 27),\n",
       " ('sistema', 27),\n",
       " ('população', 26),\n",
       " ('redução', 26),\n",
       " ('vida', 25),\n",
       " ('sociedade', 25),\n",
       " ('sobre', 25),\n",
       " ('fundamental', 25),\n",
       " ('brasileira', 24),\n",
       " ('pessoas', 24)]"
      ]
     },
     "execution_count": 18,
     "metadata": {},
     "output_type": "execute_result"
    }
   ],
   "source": [
    "# as 100 palavras mais comuns\n",
    "hundred_most_common = freq_full_text.most_common(100)\n",
    "# removendo primeiro elemento da lista ''\n",
    "hundred_most_common = hundred_most_common[1:]\n",
    "# imprime as 10 primeiras\n",
    "hundred_most_common[:29]"
   ]
  },
  {
   "cell_type": "code",
   "execution_count": 19,
   "metadata": {},
   "outputs": [],
   "source": [
    "# \n",
    "x = []\n",
    "y = []\n",
    "for i in hundred_most_common[0:29]:\n",
    "    x.append(i[0])\n",
    "    y.append(i[1])"
   ]
  },
  {
   "cell_type": "code",
   "execution_count": 20,
   "metadata": {},
   "outputs": [
    {
     "data": {
      "text/html": [
       "<div>\n",
       "<style scoped>\n",
       "    .dataframe tbody tr th:only-of-type {\n",
       "        vertical-align: middle;\n",
       "    }\n",
       "\n",
       "    .dataframe tbody tr th {\n",
       "        vertical-align: top;\n",
       "    }\n",
       "\n",
       "    .dataframe thead th {\n",
       "        text-align: right;\n",
       "    }\n",
       "</style>\n",
       "<table border=\"1\" class=\"dataframe\">\n",
       "  <thead>\n",
       "    <tr style=\"text-align: right;\">\n",
       "      <th></th>\n",
       "      <th>frequencia</th>\n",
       "      <th>palavra</th>\n",
       "    </tr>\n",
       "  </thead>\n",
       "  <tbody>\n",
       "    <tr>\n",
       "      <th>0</th>\n",
       "      <td>66</td>\n",
       "      <td>brasil</td>\n",
       "    </tr>\n",
       "    <tr>\n",
       "      <th>1</th>\n",
       "      <td>57</td>\n",
       "      <td>políticas</td>\n",
       "    </tr>\n",
       "    <tr>\n",
       "      <th>2</th>\n",
       "      <td>48</td>\n",
       "      <td>política</td>\n",
       "    </tr>\n",
       "    <tr>\n",
       "      <th>3</th>\n",
       "      <td>42</td>\n",
       "      <td>saúde</td>\n",
       "    </tr>\n",
       "    <tr>\n",
       "      <th>4</th>\n",
       "      <td>38</td>\n",
       "      <td>país</td>\n",
       "    </tr>\n",
       "  </tbody>\n",
       "</table>\n",
       "</div>"
      ],
      "text/plain": [
       "   frequencia    palavra\n",
       "0          66     brasil\n",
       "1          57  políticas\n",
       "2          48   política\n",
       "3          42      saúde\n",
       "4          38       país"
      ]
     },
     "execution_count": 20,
     "metadata": {},
     "output_type": "execute_result"
    }
   ],
   "source": [
    "d = {'palavra': x, 'frequencia': y}\n",
    "df_r = pd.DataFrame(d)\n",
    "df_r = df_r.sort_values(['frequencia'], ascending=0)\n",
    "df_r.head()"
   ]
  },
  {
   "cell_type": "code",
   "execution_count": 21,
   "metadata": {},
   "outputs": [],
   "source": [
    "#df_r.frequencia = df_r.frequencia/df_r.loc[0, 'frequencia']"
   ]
  },
  {
   "cell_type": "code",
   "execution_count": 30,
   "metadata": {},
   "outputs": [
    {
     "data": {
      "image/png": "[encoded data removed]",
      "text/plain": [
       "<matplotlib.figure.Figure at 0x7f4342940390>"
      ]
     },
     "metadata": {},
     "output_type": "display_data"
    }
   ],
   "source": [
    "plt.figure(figsize=(15,10))\n",
    "# Palette color documentation\n",
    "# https://seaborn.pydata.org/tutorial/color_palettes.html\n",
    "sns.barplot(df_r.frequencia, df_r.palavra, palette=\"BuGn_r\")\n",
    "plt.title(\"Frequencia de palavras no Plano de Governo - Rede\")\n",
    "plt.xlabel('frequencia')\n",
    "plt.ylabel('palavras')\n",
    "plt.show()\n"
   ]
  },
  {
   "cell_type": "code",
   "execution_count": 23,
   "metadata": {},
   "outputs": [
    {
     "data": {
      "text/plain": [
       "[('brasil', 66),\n",
       " ('políticas', 57),\n",
       " ('política', 48),\n",
       " ('saúde', 42),\n",
       " ('país', 38),\n",
       " ('desenvolvimento', 37),\n",
       " ('nacional', 36),\n",
       " ('educação', 34),\n",
       " ('acesso', 34),\n",
       " ('municípios', 32),\n",
       " ('serviços', 32),\n",
       " ('meio', 32),\n",
       " ('qualidade', 31),\n",
       " ('recursos', 31),\n",
       " ('forma', 31),\n",
       " ('promoveremos', 30),\n",
       " ('social', 29),\n",
       " ('ser', 28),\n",
       " ('uso', 27),\n",
       " ('economia', 27),\n",
       " ('sistema', 27),\n",
       " ('população', 26),\n",
       " ('redução', 26),\n",
       " ('vida', 25),\n",
       " ('sociedade', 25),\n",
       " ('sobre', 25),\n",
       " ('fundamental', 25),\n",
       " ('brasileira', 24),\n",
       " ('pessoas', 24),\n",
       " ('anos', 24),\n",
       " ('gestão', 23),\n",
       " ('produção', 23),\n",
       " ('todos', 22),\n",
       " ('ainda', 22),\n",
       " ('governo', 22),\n",
       " ('apoio', 22),\n",
       " ('promover', 22),\n",
       " ('setor', 22),\n",
       " ('segurança', 21),\n",
       " ('públicas', 21),\n",
       " ('estados', 21),\n",
       " ('públicos', 21),\n",
       " ('ampliação', 21),\n",
       " ('trabalho', 21),\n",
       " ('garantir', 21),\n",
       " ('cultura', 20),\n",
       " ('cada', 19),\n",
       " ('direitos', 19),\n",
       " ('maior', 18),\n",
       " ('oportunidades', 18),\n",
       " ('inovação', 18),\n",
       " ('criação', 18),\n",
       " ('investimentos', 18),\n",
       " ('sustentável', 17),\n",
       " ('promoção', 17),\n",
       " ('infraestrutura', 17),\n",
       " ('programas', 17),\n",
       " ('brasileiros', 16),\n",
       " ('programa', 16),\n",
       " ('combate', 16),\n",
       " ('planejamento', 16),\n",
       " ('ensino', 16),\n",
       " ('inclusão', 15),\n",
       " ('direito', 15),\n",
       " ('base', 15),\n",
       " ('empresas', 15),\n",
       " ('novas', 15),\n",
       " ('jovens', 15),\n",
       " ('ambiente', 15),\n",
       " ('especial', 15),\n",
       " ('pública', 14),\n",
       " ('prevenção', 14),\n",
       " ('violência', 14),\n",
       " ('estado', 14),\n",
       " ('vamos', 14),\n",
       " ('tecnologias', 14),\n",
       " ('metas', 14),\n",
       " ('deve', 14),\n",
       " ('atenção', 14),\n",
       " ('condições', 14),\n",
       " ('comunidades', 14),\n",
       " ('rede', 13),\n",
       " ('papel', 13),\n",
       " ('mundo', 13),\n",
       " ('tecnologia', 13),\n",
       " ('público', 13),\n",
       " ('controle', 13),\n",
       " ('lei', 13),\n",
       " ('econômico', 13),\n",
       " ('iniciativas', 13),\n",
       " ('compromisso', 13),\n",
       " ('mercado', 13),\n",
       " ('hoje', 13),\n",
       " ('atividades', 13),\n",
       " ('criaremos', 13),\n",
       " ('tratamento', 13),\n",
       " ('energia', 13),\n",
       " ('empregos', 13),\n",
       " ('garantia', 12)]"
      ]
     },
     "execution_count": 23,
     "metadata": {},
     "output_type": "execute_result"
    }
   ],
   "source": [
    "# Lista completa das 100 mais frequentes\n",
    "hundred_most_common"
   ]
  },
  {
   "cell_type": "code",
   "execution_count": 24,
   "metadata": {},
   "outputs": [
    {
     "data": {
      "text/plain": [
       "['brasil',\n",
       " 'políticas',\n",
       " 'política',\n",
       " 'saúde',\n",
       " 'país',\n",
       " 'desenvolvimento',\n",
       " 'nacional',\n",
       " 'educação',\n",
       " 'acesso']"
      ]
     },
     "execution_count": 24,
     "metadata": {},
     "output_type": "execute_result"
    }
   ],
   "source": [
    "words = []\n",
    "for i in hundred_most_common:\n",
    "    words.append(i[0])\n",
    "words[:9]"
   ]
  },
  {
   "cell_type": "code",
   "execution_count": 25,
   "metadata": {},
   "outputs": [],
   "source": [
    "text = full_text[0].split(' ')\n",
    "freq_exp = {}\n",
    "for i in range(len(words)):\n",
    "    for j in range(len(text)):\n",
    "        if words[i] == text[j]:\n",
    "            if text[j-1]:\n",
    "                if text[j+1] == '':\n",
    "                    string = text[j-1] + ' ' + text[j] + ' ' + text[j+2]\n",
    "                else:\n",
    "                    string = text[j-1] + ' ' + text[j] + ' ' + text[j+1]\n",
    "                if not string in freq_exp:\n",
    "                    freq_exp[string] = 1\n",
    "                else:\n",
    "                    freq_exp[string] = freq_exp[string] + 1"
   ]
  },
  {
   "cell_type": "code",
   "execution_count": 27,
   "metadata": {},
   "outputs": [
    {
     "name": "stdout",
     "output_type": "stream",
     "text": [
      "plano nacional educação 3\n",
      "base nacional comum 3\n",
      "saúde qualidade todos 3\n",
      "parceria estados municípios 3\n",
      "uso novas tecnologias 5\n",
      "políticas prevenção combate 3\n",
      "povos comunidades tradicionais 3\n",
      "ciência tecnologia inovação 5\n"
     ]
    }
   ],
   "source": [
    "# lista das expressoes mais frequentes no texto que usam palavras mais frequentes (lista anterior)\n",
    "for key, value in freq_exp.items():\n",
    "    if value >=3:\n",
    "        print(key, value)"
   ]
  },
  {
   "cell_type": "code",
   "execution_count": null,
   "metadata": {},
   "outputs": [],
   "source": []
  }
 ],
 "metadata": {
  "kernelspec": {
   "display_name": "Python 3",
   "language": "python",
   "name": "python3"
  },
  "language_info": {
   "codemirror_mode": {
    "name": "ipython",
    "version": 3
   },
   "file_extension": ".py",
   "mimetype": "text/x-python",
   "name": "python",
   "nbconvert_exporter": "python",
   "pygments_lexer": "ipython3",
   "version": "3.6.4"
  }
 },
 "nbformat": 4,
 "nbformat_minor": 2
}
