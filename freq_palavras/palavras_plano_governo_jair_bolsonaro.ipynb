{
 "cells": [
  {
   "cell_type": "markdown",
   "metadata": {},
   "source": [
    "### Contagem das palavras mais usadas no Plano de governo do PSL"
   ]
  },
  {
   "cell_type": "markdown",
   "metadata": {},
   "source": [
    "#### Importacao de bibliotecas"
   ]
  },
  {
   "cell_type": "code",
   "execution_count": 1,
   "metadata": {},
   "outputs": [],
   "source": [
    "import pandas as pd\n",
    "import numpy as np\n",
    "# http://scikit-learn.org/stable/modules/feature_extraction.html#text-feature-extraction\n",
    "from sklearn.feature_extraction.text import CountVectorizer\n",
    "import string\n",
    "from nltk.corpus import stopwords\n",
    "from nltk import *\n",
    "from matplotlib import pyplot as plt\n",
    "import seaborn as sns\n",
    "%matplotlib inline"
   ]
  },
  {
   "cell_type": "markdown",
   "metadata": {},
   "source": [
    "### Link do plano de governo\n",
    "\n",
    "- [Plano de governo](https://www.pslnacional.org.br/)\n",
    "\n",
    "### Conversao pdf to text\n",
    "\n",
    "- Utilizei esse site on-line [https://pdftotext.com/](https://pdftotext.com/)"
   ]
  },
  {
   "cell_type": "markdown",
   "metadata": {},
   "source": [
    "### Leitura do arquivo transformado em texto do original em pdf"
   ]
  },
  {
   "cell_type": "code",
   "execution_count": 2,
   "metadata": {},
   "outputs": [],
   "source": [
    "with open('text/plano_governo_jair_bolsonaro.txt', 'r', encoding='UTF-8') as pl:\n",
    "    big_string = ''\n",
    "    for line in pl:\n",
    "        split_line = line.split(' ')\n",
    "        for word in split_line:\n",
    "            big_string = big_string + ' ' + word"
   ]
  },
  {
   "cell_type": "code",
   "execution_count": 3,
   "metadata": {},
   "outputs": [],
   "source": [
    "# criacao de lista de simbolos de pontuacao\n",
    "punctuation = string.punctuation"
   ]
  },
  {
   "cell_type": "code",
   "execution_count": 4,
   "metadata": {},
   "outputs": [],
   "source": [
    "# removendo quebras de linha '\\n'\n",
    "big_string = big_string.replace('\\n ', ' ')"
   ]
  },
  {
   "cell_type": "code",
   "execution_count": 5,
   "metadata": {},
   "outputs": [],
   "source": [
    "# retirando pontuacao\n",
    "for p in punctuation:\n",
    "    big_string = big_string.replace(p, '')"
   ]
  },
  {
   "cell_type": "code",
   "execution_count": 6,
   "metadata": {},
   "outputs": [],
   "source": [
    "# convertendo tudo para lower case\n",
    "big_string = big_string.lower()"
   ]
  },
  {
   "cell_type": "code",
   "execution_count": 7,
   "metadata": {},
   "outputs": [
    {
     "data": {
      "text/plain": [
       "' nossas ideias nosso compromisso é o de priorizar as seguintes questões abaixo relacionadas além de outras também abraçadas pelo partido a segurança pública nacional em todos os níveis prestigiando protegendo apoiando os respectivos órgãos que nela atuam tais como as polícias federal rodoviária federal militares e civis receita federal corpos de bombeiros as guardas municipais e as forças armadas b proposição de mudanças legislativas e implementação de políticas que visem minimizar os índices crescentes de violência e homicídios no país reduzindoos substancialmente no mais curto espaço de tempo possível c políticas de proteção às nossas fronteiras minimizando o contrabando e o tráfico de armas e de drogas d políticas de esclarecimento à população que visem a conscientização a respeito dos males provocados pelo comunismo e socialismo e proteção à propriedade privada e garantia de que cada cidadão de bem tenha o direito de proteger seu principal patrimônio sua vida para tanto é necessári'"
      ]
     },
     "execution_count": 7,
     "metadata": {},
     "output_type": "execute_result"
    }
   ],
   "source": [
    "# checando a conversao\n",
    "big_string[0:1000]"
   ]
  },
  {
   "cell_type": "code",
   "execution_count": 8,
   "metadata": {},
   "outputs": [
    {
     "data": {
      "text/plain": [
       "8282"
      ]
     },
     "execution_count": 8,
     "metadata": {},
     "output_type": "execute_result"
    }
   ],
   "source": [
    "# comprimento da string\n",
    "len(big_string)"
   ]
  },
  {
   "cell_type": "code",
   "execution_count": 9,
   "metadata": {},
   "outputs": [],
   "source": [
    "# nltk.download() # rodar apenas uma vez para baixar os pacotes"
   ]
  },
  {
   "cell_type": "code",
   "execution_count": 10,
   "metadata": {},
   "outputs": [],
   "source": [
    "# lista de stopwords em portugues\n",
    "stop_words = stopwords.words('portuguese')"
   ]
  },
  {
   "cell_type": "code",
   "execution_count": 11,
   "metadata": {},
   "outputs": [
    {
     "data": {
      "text/plain": [
       "203"
      ]
     },
     "execution_count": 11,
     "metadata": {},
     "output_type": "execute_result"
    }
   ],
   "source": [
    "# numero de stopwords\n",
    "len(stop_words)"
   ]
  },
  {
   "cell_type": "code",
   "execution_count": 12,
   "metadata": {},
   "outputs": [],
   "source": [
    "# aparando os detalhes\n",
    "full_text = big_string\n",
    "for s_word in stop_words:\n",
    "    s_word = ' ' + s_word + ' '\n",
    "    full_text = full_text.replace(s_word, ' ')\n",
    "    full_text = full_text.replace(' é ', ' ')\n",
    "    full_text = full_text.replace(' – ', ' ')\n",
    "    full_text = full_text.replace(' • ', ' ')"
   ]
  },
  {
   "cell_type": "code",
   "execution_count": 13,
   "metadata": {},
   "outputs": [
    {
     "data": {
      "text/plain": [
       "6579"
      ]
     },
     "execution_count": 13,
     "metadata": {},
     "output_type": "execute_result"
    }
   ],
   "source": [
    "# tamanho do texto apos limpeza\n",
    "len(full_text)"
   ]
  },
  {
   "cell_type": "code",
   "execution_count": 14,
   "metadata": {},
   "outputs": [
    {
     "data": {
      "text/plain": [
       "1703"
      ]
     },
     "execution_count": 14,
     "metadata": {},
     "output_type": "execute_result"
    }
   ],
   "source": [
    "# quantidade de caracteres removidos\n",
    "len(big_string)-len(full_text)"
   ]
  },
  {
   "cell_type": "code",
   "execution_count": 15,
   "metadata": {},
   "outputs": [],
   "source": [
    "# transformando a string em lista\n",
    "full_text = [full_text]"
   ]
  },
  {
   "cell_type": "code",
   "execution_count": 16,
   "metadata": {},
   "outputs": [],
   "source": [
    "# separando palavra por palavra\n",
    "freq_full_text = full_text[0].split(' ')"
   ]
  },
  {
   "cell_type": "markdown",
   "metadata": {},
   "source": [
    "### Documentacao FreqDist\n",
    "\n",
    "- [FreqDist](http://www.nltk.org/api/nltk.html?highlight=freqdist)"
   ]
  },
  {
   "cell_type": "code",
   "execution_count": 17,
   "metadata": {},
   "outputs": [],
   "source": [
    "# Contando a frequencia de cada palavra com a funcao FreqDist\n",
    "freq_full_text = FreqDist(freq_full_text)"
   ]
  },
  {
   "cell_type": "code",
   "execution_count": 18,
   "metadata": {},
   "outputs": [
    {
     "data": {
      "text/plain": [
       "[('governo', 7),\n",
       " ('federal', 6),\n",
       " ('vida', 6),\n",
       " ('devem', 6),\n",
       " ('privada', 5),\n",
       " ('cidadãos', 5),\n",
       " ('combate', 5),\n",
       " ('deve', 5),\n",
       " ('poderes', 5)]"
      ]
     },
     "execution_count": 18,
     "metadata": {},
     "output_type": "execute_result"
    }
   ],
   "source": [
    "# as 100 palavras mais comuns\n",
    "hundred_most_common = freq_full_text.most_common(100)\n",
    "# removendo primeiro elemento da lista ''\n",
    "hundred_most_common = hundred_most_common[1:]\n",
    "# imprime as 10 primeiras\n",
    "hundred_most_common[:9]"
   ]
  },
  {
   "cell_type": "code",
   "execution_count": 19,
   "metadata": {},
   "outputs": [],
   "source": [
    "# \n",
    "x = []\n",
    "y = []\n",
    "for i in hundred_most_common[0:29]:\n",
    "    x.append(i[0])\n",
    "    y.append(i[1])"
   ]
  },
  {
   "cell_type": "code",
   "execution_count": 20,
   "metadata": {},
   "outputs": [],
   "source": [
    "d = {'palavra': x, 'frequencia': y}\n",
    "df_r = pd.DataFrame(d)"
   ]
  },
  {
   "cell_type": "code",
   "execution_count": 21,
   "metadata": {},
   "outputs": [],
   "source": [
    "df_r.frequencia = df_r.frequencia/df_r.loc[0, 'frequencia']"
   ]
  },
  {
   "cell_type": "code",
   "execution_count": 22,
   "metadata": {},
   "outputs": [
    {
     "data": {
      "image/png": "[encoded data removed]",
      "text/plain": [
       "<matplotlib.figure.Figure at 0x7f6dd500f390>"
      ]
     },
     "metadata": {},
     "output_type": "display_data"
    }
   ],
   "source": [
    "plt.figure(figsize=(15,10))\n",
    "sns.barplot(df_r.frequencia, df_r.palavra, palette=\"Blues_d\")\n",
    "plt.title(\"Frequencia de palavras no Plano de Governo do PSL\")\n",
    "plt.xticks(rotation=90)\n",
    "plt.xlabel('frequencia')\n",
    "plt.ylabel('palavras')\n",
    "plt.show()"
   ]
  },
  {
   "cell_type": "code",
   "execution_count": 23,
   "metadata": {},
   "outputs": [
    {
     "data": {
      "text/plain": [
       "[('governo', 7),\n",
       " ('federal', 6),\n",
       " ('vida', 6),\n",
       " ('devem', 6),\n",
       " ('privada', 5),\n",
       " ('cidadãos', 5),\n",
       " ('combate', 5),\n",
       " ('deve', 5),\n",
       " ('poderes', 5),\n",
       " ('todos', 4),\n",
       " ('políticas', 4),\n",
       " ('cada', 4),\n",
       " ('iniciativa', 4),\n",
       " ('outros', 4),\n",
       " ('liberalismo', 4),\n",
       " ('indivíduos', 4),\n",
       " ('lei', 4),\n",
       " ('contribuinte', 4),\n",
       " ('agentes', 4),\n",
       " ('conservador', 4),\n",
       " ('além', 3),\n",
       " ('níveis', 3),\n",
       " ('país', 3),\n",
       " ('possível', 3),\n",
       " ('proteção', 3),\n",
       " ('cidadão', 3),\n",
       " ('bem', 3),\n",
       " ('direito', 3),\n",
       " ('democracia', 3),\n",
       " ('fim', 3),\n",
       " ('públicos', 3),\n",
       " ('qualidade', 3),\n",
       " ('todas', 3),\n",
       " ('países', 3),\n",
       " ('econômico', 3),\n",
       " ('empresas', 3),\n",
       " ('acreditamos', 3),\n",
       " ('fazer', 3),\n",
       " ('mãos', 3),\n",
       " ('brasília', 3),\n",
       " ('impostos', 3),\n",
       " ('realidade', 3),\n",
       " ('local', 3),\n",
       " ('melhor', 3),\n",
       " ('dinheiro', 3),\n",
       " ('instituições', 3),\n",
       " ('defendemos', 3),\n",
       " ('poder', 3),\n",
       " ('outras', 2),\n",
       " ('respectivos', 2),\n",
       " ('órgãos', 2),\n",
       " ('tais', 2),\n",
       " ('mudanças', 2),\n",
       " ('visem', 2),\n",
       " ('tempo', 2),\n",
       " ('armas', 2),\n",
       " ('respeito', 2),\n",
       " ('garantia', 2),\n",
       " ('possam', 2),\n",
       " ('ter', 2),\n",
       " ('intransigente', 2),\n",
       " ('liberdade', 2),\n",
       " ('esferas', 2),\n",
       " ('menos', 2),\n",
       " ('prestação', 2),\n",
       " ('serviços', 2),\n",
       " ('eficiência', 2),\n",
       " ('saúde', 2),\n",
       " ('educação', 2),\n",
       " ('formas', 2),\n",
       " ('livre', 2),\n",
       " ('mediante', 2),\n",
       " ('adoção', 2),\n",
       " ('maior', 2),\n",
       " ('riqueza', 2),\n",
       " ('sociais', 2),\n",
       " ('decorrentes', 2),\n",
       " ('gênero', 2),\n",
       " ('opção', 2),\n",
       " ('corrupção', 2),\n",
       " ('brasil', 2),\n",
       " ('significa', 2),\n",
       " ('pessoas', 2),\n",
       " ('mercado', 2),\n",
       " ('todo', 2),\n",
       " ('mundo', 2),\n",
       " ('ação', 2),\n",
       " ('alcance', 2),\n",
       " ('limites', 2),\n",
       " ('ser', 2),\n",
       " ('grupos', 2),\n",
       " ('apenas', 2),\n",
       " ('tal', 2),\n",
       " ('aumenta', 2),\n",
       " ('pagador', 2),\n",
       " ('portanto', 2),\n",
       " ('problemas', 2),\n",
       " ('poucos', 2),\n",
       " ('onde', 2)]"
      ]
     },
     "execution_count": 23,
     "metadata": {},
     "output_type": "execute_result"
    }
   ],
   "source": [
    "# Lista completa das 100 mais frequentes\n",
    "hundred_most_common"
   ]
  },
  {
   "cell_type": "code",
   "execution_count": 24,
   "metadata": {},
   "outputs": [
    {
     "data": {
      "text/plain": [
       "['governo',\n",
       " 'federal',\n",
       " 'vida',\n",
       " 'devem',\n",
       " 'privada',\n",
       " 'cidadãos',\n",
       " 'combate',\n",
       " 'deve',\n",
       " 'poderes']"
      ]
     },
     "execution_count": 24,
     "metadata": {},
     "output_type": "execute_result"
    }
   ],
   "source": [
    "words = []\n",
    "for i in hundred_most_common:\n",
    "    words.append(i[0])\n",
    "words[:9]"
   ]
  },
  {
   "cell_type": "code",
   "execution_count": 25,
   "metadata": {},
   "outputs": [],
   "source": [
    "text = full_text[0].split(' ')\n",
    "freq_exp = {}\n",
    "for i in range(len(words)):\n",
    "    for j in range(len(text)):\n",
    "        if words[i] == text[j]:\n",
    "            if text[j-1]:\n",
    "                string = text[j-1] + ' ' + text[j] + ' ' + text[j+1]\n",
    "                if not string in freq_exp:\n",
    "                    freq_exp[string] = 1\n",
    "                else:\n",
    "                    freq_exp[string] = freq_exp[string] + 1"
   ]
  },
  {
   "cell_type": "code",
   "execution_count": 29,
   "metadata": {},
   "outputs": [],
   "source": [
    "# lista das expressoes mais frequentes no texto que usam palavras mais frequentes (lista anterior)\n",
    "for key, value in freq_exp.items():\n",
    "    if value >=2:\n",
    "        print(key, value)"
   ]
  },
  {
   "cell_type": "code",
   "execution_count": null,
   "metadata": {},
   "outputs": [],
   "source": []
  }
 ],
 "metadata": {
  "kernelspec": {
   "display_name": "Python 3",
   "language": "python",
   "name": "python3"
  },
  "language_info": {
   "codemirror_mode": {
    "name": "ipython",
    "version": 3
   },
   "file_extension": ".py",
   "mimetype": "text/x-python",
   "name": "python",
   "nbconvert_exporter": "python",
   "pygments_lexer": "ipython3",
   "version": "3.6.4"
  }
 },
 "nbformat": 4,
 "nbformat_minor": 2
}
