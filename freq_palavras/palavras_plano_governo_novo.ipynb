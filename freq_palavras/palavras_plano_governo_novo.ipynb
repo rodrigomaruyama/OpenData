{
 "cells": [
  {
   "cell_type": "markdown",
   "metadata": {},
   "source": [
    "### Contagem das palavras mais usadas no Plano de governo do Partido Novo"
   ]
  },
  {
   "cell_type": "markdown",
   "metadata": {},
   "source": [
    "#### Importacao de bibliotecas"
   ]
  },
  {
   "cell_type": "code",
   "execution_count": 1,
   "metadata": {},
   "outputs": [],
   "source": [
    "import pandas as pd\n",
    "import numpy as np\n",
    "# http://scikit-learn.org/stable/modules/feature_extraction.html#text-feature-extraction\n",
    "from sklearn.feature_extraction.text import CountVectorizer\n",
    "import string\n",
    "from nltk.corpus import stopwords\n",
    "from nltk import *\n",
    "from matplotlib import pyplot as plt\n",
    "import seaborn as sns\n",
    "%matplotlib inline"
   ]
  },
  {
   "cell_type": "markdown",
   "metadata": {},
   "source": [
    "### Link do plano de governo\n",
    "\n",
    "- [Plano de governo](http://joaoamoedo.com.br/programa-de-governo/)\n",
    "\n",
    "### Conversao pdf to text\n",
    "\n",
    "- Utilizei esse site on-line [https://pdftotext.com/](https://pdftotext.com/)"
   ]
  },
  {
   "cell_type": "markdown",
   "metadata": {},
   "source": [
    "### Leitura do arquivo transformado em texto do original em pdf"
   ]
  },
  {
   "cell_type": "code",
   "execution_count": 2,
   "metadata": {},
   "outputs": [],
   "source": [
    "with open('text/plano_governo_joaoamoedo.txt', 'r', encoding='UTF-8') as pl:\n",
    "    big_string = ''\n",
    "    for line in pl:\n",
    "        split_line = line.split(' ')\n",
    "        for word in split_line:\n",
    "            big_string = big_string + ' ' + word"
   ]
  },
  {
   "cell_type": "code",
   "execution_count": 3,
   "metadata": {},
   "outputs": [],
   "source": [
    "# criacao de lista de simbolos de pontuacao\n",
    "punctuation = string.punctuation"
   ]
  },
  {
   "cell_type": "code",
   "execution_count": 4,
   "metadata": {},
   "outputs": [],
   "source": [
    "# removendo quebras de linha '\\n'\n",
    "big_string = big_string.replace('\\n ', ' ')"
   ]
  },
  {
   "cell_type": "code",
   "execution_count": 5,
   "metadata": {},
   "outputs": [],
   "source": [
    "# retirando pontuacao\n",
    "for p in punctuation:\n",
    "    big_string = big_string.replace(p, '')"
   ]
  },
  {
   "cell_type": "code",
   "execution_count": 6,
   "metadata": {},
   "outputs": [],
   "source": [
    "# convertendo tudo para lower case\n",
    "big_string = big_string.lower()"
   ]
  },
  {
   "cell_type": "code",
   "execution_count": 7,
   "metadata": {},
   "outputs": [
    {
     "data": {
      "text/plain": [
       "' 8162018  programa de governo  joão amoêdo  nosso grande sonho  nossa motivação  “um brasil seguro simples e livre onde todos possam chegar lá”  o que nos move é o senso de responsabilidade com o país e as próximas gerações  \\uf03a  nossas bandeiras 1 oportunidades para que todos os brasileiros possam trabalhar empreender e viver cada vez melhor 2 educação de qualidade e conhecimento para que as crianças e os jovens possam construir seu futuro em um mundo em transformação 3 respeito à vida e segurança para todos os brasileiros em todo o território 4 saúde acessível com um novo modelo que trate a todos com dignidade 5 proteção social como um caminho para a cidadania plena e fim da pobreza 6 qualidade e representatividade política com ética e transparência sem privilégios e corrupção httpjoaoamoedocombrprogramadegoverno  \\uf106 114  \\x0c8162018  programa de governo  joão amoêdo 7 governo responsável simples e digital que funcione para o cidadão para o trabalhador e para o empreendedor  8 previdência '"
      ]
     },
     "execution_count": 7,
     "metadata": {},
     "output_type": "execute_result"
    }
   ],
   "source": [
    "# checando a conversao\n",
    "big_string[0:1000]"
   ]
  },
  {
   "cell_type": "code",
   "execution_count": 8,
   "metadata": {},
   "outputs": [
    {
     "data": {
      "text/plain": [
       "28817"
      ]
     },
     "execution_count": 8,
     "metadata": {},
     "output_type": "execute_result"
    }
   ],
   "source": [
    "# comprimento da string\n",
    "len(big_string)"
   ]
  },
  {
   "cell_type": "code",
   "execution_count": 9,
   "metadata": {},
   "outputs": [],
   "source": [
    "# nltk.download() # rodar apenas uma vez para baixar os pacotes"
   ]
  },
  {
   "cell_type": "code",
   "execution_count": 10,
   "metadata": {},
   "outputs": [],
   "source": [
    "# lista de stopwords em portugues\n",
    "stop_words = stopwords.words('portuguese')"
   ]
  },
  {
   "cell_type": "code",
   "execution_count": 11,
   "metadata": {},
   "outputs": [
    {
     "data": {
      "text/plain": [
       "203"
      ]
     },
     "execution_count": 11,
     "metadata": {},
     "output_type": "execute_result"
    }
   ],
   "source": [
    "# numero de stopwords\n",
    "len(stop_words)"
   ]
  },
  {
   "cell_type": "code",
   "execution_count": 12,
   "metadata": {},
   "outputs": [],
   "source": [
    "# aparando os detalhes\n",
    "full_text = big_string\n",
    "for s_word in stop_words:\n",
    "    s_word = ' ' + s_word + ' '\n",
    "    full_text = full_text.replace(s_word, ' ')\n",
    "    full_text = full_text.replace(' é ', ' ')\n",
    "    full_text = full_text.replace(' – ', ' ')\n",
    "    full_text = full_text.replace(' • ', ' ')\n",
    "    #full_text = full_text.replace('  ', ' ')\n",
    "    full_text = full_text.replace('httpjoaoamoedocombrprogramadegoverno', '')\n",
    "    full_text = full_text.replace('httpjoaoamoedocombr', '')\n",
    "    full_text = full_text.replace('\\x0c8162018', '')\n",
    "    full_text = full_text.replace('\\uf106', '')"
   ]
  },
  {
   "cell_type": "code",
   "execution_count": 13,
   "metadata": {},
   "outputs": [
    {
     "data": {
      "text/plain": [
       "21790"
      ]
     },
     "execution_count": 13,
     "metadata": {},
     "output_type": "execute_result"
    }
   ],
   "source": [
    "# tamanho do texto apos limpeza\n",
    "len(full_text)"
   ]
  },
  {
   "cell_type": "code",
   "execution_count": 14,
   "metadata": {},
   "outputs": [
    {
     "data": {
      "text/plain": [
       "7027"
      ]
     },
     "execution_count": 14,
     "metadata": {},
     "output_type": "execute_result"
    }
   ],
   "source": [
    "# quantidade de caracteres removidos\n",
    "len(big_string)-len(full_text)"
   ]
  },
  {
   "cell_type": "code",
   "execution_count": 15,
   "metadata": {},
   "outputs": [],
   "source": [
    "# transformando a string em lista\n",
    "full_text = [full_text]"
   ]
  },
  {
   "cell_type": "code",
   "execution_count": 16,
   "metadata": {},
   "outputs": [],
   "source": [
    "# separando palavra por palavra\n",
    "freq_full_text = full_text[0].split(' ')"
   ]
  },
  {
   "cell_type": "markdown",
   "metadata": {},
   "source": [
    "### Documentacao FreqDist\n",
    "\n",
    "- [FreqDist](http://www.nltk.org/api/nltk.html?highlight=freqdist)"
   ]
  },
  {
   "cell_type": "code",
   "execution_count": 17,
   "metadata": {},
   "outputs": [],
   "source": [
    "# Contando a frequencia de cada palavra com a funcao FreqDist\n",
    "freq_full_text = FreqDist(freq_full_text)"
   ]
  },
  {
   "cell_type": "code",
   "execution_count": 18,
   "metadata": {},
   "outputs": [
    {
     "data": {
      "text/plain": [
       "[('brasil', 39),\n",
       " ('país', 26),\n",
       " ('governo', 25),\n",
       " ('todos', 20),\n",
       " ('brasileiros', 20),\n",
       " ('estado', 18),\n",
       " ('vamos', 18),\n",
       " ('programa', 17),\n",
       " ('queremos', 17),\n",
       " ('educação', 16),\n",
       " ('joão', 15),\n",
       " ('amoêdo', 15),\n",
       " ('vida', 14),\n",
       " ('livre', 13),\n",
       " ('cada', 13),\n",
       " ('mundo', 13),\n",
       " ('pobreza', 13),\n",
       " ('brasileiro', 13),\n",
       " ('onde', 12),\n",
       " ('qualidade', 12),\n",
       " ('política', 12),\n",
       " ('menos', 12),\n",
       " ('visão', 12),\n",
       " ('simples', 11),\n",
       " ('novo', 11),\n",
       " ('redução', 11),\n",
       " ('longo', 11),\n",
       " ('prazo', 11),\n",
       " ('propostas', 11)]"
      ]
     },
     "execution_count": 18,
     "metadata": {},
     "output_type": "execute_result"
    }
   ],
   "source": [
    "# as 100 palavras mais comuns\n",
    "hundred_most_common = freq_full_text.most_common(100)\n",
    "# removendo primeiro elemento da lista ''\n",
    "hundred_most_common = hundred_most_common[1:]\n",
    "# imprime as 10 primeiras\n",
    "hundred_most_common[:29]"
   ]
  },
  {
   "cell_type": "code",
   "execution_count": 19,
   "metadata": {},
   "outputs": [],
   "source": [
    "# \n",
    "x = []\n",
    "y = []\n",
    "for i in hundred_most_common[0:29]:\n",
    "    x.append(i[0])\n",
    "    y.append(i[1])"
   ]
  },
  {
   "cell_type": "code",
   "execution_count": 27,
   "metadata": {},
   "outputs": [
    {
     "data": {
      "text/html": [
       "<div>\n",
       "<style scoped>\n",
       "    .dataframe tbody tr th:only-of-type {\n",
       "        vertical-align: middle;\n",
       "    }\n",
       "\n",
       "    .dataframe tbody tr th {\n",
       "        vertical-align: top;\n",
       "    }\n",
       "\n",
       "    .dataframe thead th {\n",
       "        text-align: right;\n",
       "    }\n",
       "</style>\n",
       "<table border=\"1\" class=\"dataframe\">\n",
       "  <thead>\n",
       "    <tr style=\"text-align: right;\">\n",
       "      <th></th>\n",
       "      <th>frequencia</th>\n",
       "      <th>palavra</th>\n",
       "    </tr>\n",
       "  </thead>\n",
       "  <tbody>\n",
       "    <tr>\n",
       "      <th>0</th>\n",
       "      <td>39</td>\n",
       "      <td>brasil</td>\n",
       "    </tr>\n",
       "    <tr>\n",
       "      <th>1</th>\n",
       "      <td>26</td>\n",
       "      <td>país</td>\n",
       "    </tr>\n",
       "    <tr>\n",
       "      <th>2</th>\n",
       "      <td>25</td>\n",
       "      <td>governo</td>\n",
       "    </tr>\n",
       "    <tr>\n",
       "      <th>3</th>\n",
       "      <td>20</td>\n",
       "      <td>todos</td>\n",
       "    </tr>\n",
       "    <tr>\n",
       "      <th>4</th>\n",
       "      <td>20</td>\n",
       "      <td>brasileiros</td>\n",
       "    </tr>\n",
       "  </tbody>\n",
       "</table>\n",
       "</div>"
      ],
      "text/plain": [
       "   frequencia      palavra\n",
       "0          39       brasil\n",
       "1          26         país\n",
       "2          25      governo\n",
       "3          20        todos\n",
       "4          20  brasileiros"
      ]
     },
     "execution_count": 27,
     "metadata": {},
     "output_type": "execute_result"
    }
   ],
   "source": [
    "d = {'palavra': x, 'frequencia': y}\n",
    "df_r = pd.DataFrame(d)\n",
    "df_r = df_r.sort_values(['frequencia'], ascending=0)\n",
    "df_r.head()"
   ]
  },
  {
   "cell_type": "code",
   "execution_count": 28,
   "metadata": {},
   "outputs": [],
   "source": [
    "df_r.frequencia = df_r.frequencia/df_r.loc[0, 'frequencia']"
   ]
  },
  {
   "cell_type": "code",
   "execution_count": 29,
   "metadata": {},
   "outputs": [
    {
     "data": {
      "image/png": "[encoded data removed]",
      "text/plain": [
       "<matplotlib.figure.Figure at 0x7fc905e057f0>"
      ]
     },
     "metadata": {},
     "output_type": "display_data"
    }
   ],
   "source": [
    "plt.figure(figsize=(15,10))\n",
    "sns.barplot(df_r.frequencia, df_r.palavra, palette=\"Blues_d\")\n",
    "plt.title(\"Frequencia de palavras no Plano de Governo do Partido Novo\")\n",
    "#plt.xticks(rotation=90)\n",
    "plt.xlabel('frequencia')\n",
    "plt.ylabel('palavras')\n",
    "plt.show()\n"
   ]
  },
  {
   "cell_type": "code",
   "execution_count": 22,
   "metadata": {},
   "outputs": [
    {
     "data": {
      "text/plain": [
       "[('brasil', 39),\n",
       " ('país', 26),\n",
       " ('governo', 25),\n",
       " ('todos', 20),\n",
       " ('brasileiros', 20),\n",
       " ('estado', 18),\n",
       " ('vamos', 18),\n",
       " ('programa', 17),\n",
       " ('queremos', 17),\n",
       " ('educação', 16),\n",
       " ('joão', 15),\n",
       " ('amoêdo', 15),\n",
       " ('vida', 14),\n",
       " ('livre', 13),\n",
       " ('cada', 13),\n",
       " ('mundo', 13),\n",
       " ('pobreza', 13),\n",
       " ('brasileiro', 13),\n",
       " ('onde', 12),\n",
       " ('qualidade', 12),\n",
       " ('política', 12),\n",
       " ('menos', 12),\n",
       " ('visão', 12),\n",
       " ('simples', 11),\n",
       " ('novo', 11),\n",
       " ('redução', 11),\n",
       " ('longo', 11),\n",
       " ('prazo', 11),\n",
       " ('propostas', 11),\n",
       " ('possam', 10),\n",
       " ('fim', 10),\n",
       " ('cidadão', 10),\n",
       " ('recursos', 10),\n",
       " ('trabalhar', 9),\n",
       " ('melhor', 9),\n",
       " ('todo', 9),\n",
       " ('saúde', 9),\n",
       " ('privilégios', 9),\n",
       " ('públicos', 9),\n",
       " ('anos', 9),\n",
       " ('setor', 9),\n",
       " ('responsabilidade', 8),\n",
       " ('gerações', 8),\n",
       " ('segurança', 8),\n",
       " ('impostos', 8),\n",
       " ('fazer', 8),\n",
       " ('precisa', 8),\n",
       " ('pessoas', 8),\n",
       " ('políticos', 8),\n",
       " ('sociedade', 8),\n",
       " ('países', 8),\n",
       " ('ensino', 8),\n",
       " ('gestão', 8),\n",
       " ('público', 8),\n",
       " ('seguro', 7),\n",
       " ('oportunidades', 7),\n",
       " ('vez', 7),\n",
       " ('base', 7),\n",
       " ('cidadãos', 7),\n",
       " ('mil', 7),\n",
       " ('liberdade', 7),\n",
       " ('mercado', 7),\n",
       " ('mundial', 7),\n",
       " ('chegar', 6),\n",
       " ('empreender', 6),\n",
       " ('jovens', 6),\n",
       " ('construir', 6),\n",
       " ('social', 6),\n",
       " ('previdência', 6),\n",
       " ('sustentável', 6),\n",
       " ('desenvolvimento', 6),\n",
       " ('10', 6),\n",
       " ('serviços', 6),\n",
       " ('família', 6),\n",
       " ('renda', 6),\n",
       " ('sempre', 6),\n",
       " ('burocracia', 6),\n",
       " ('pública', 6),\n",
       " ('posição', 6),\n",
       " ('pro', 6),\n",
       " ('comércio', 6),\n",
       " ('grande', 5),\n",
       " ('crianças', 5),\n",
       " ('dignidade', 5),\n",
       " ('proteção', 5),\n",
       " ('caminho', 5),\n",
       " ('transparência', 5),\n",
       " ('corrupção', 5),\n",
       " ('ação', 5),\n",
       " ('população', 5),\n",
       " ('criação', 5),\n",
       " ('precisamos', 5),\n",
       " ('lá', 5),\n",
       " ('básica', 5),\n",
       " ('melhorar', 5),\n",
       " ('dinheiro', 5),\n",
       " ('geração', 5),\n",
       " ('leis', 5),\n",
       " ('públicas', 5)]"
      ]
     },
     "execution_count": 22,
     "metadata": {},
     "output_type": "execute_result"
    }
   ],
   "source": [
    "# Lista completa das 100 mais frequentes\n",
    "hundred_most_common"
   ]
  },
  {
   "cell_type": "code",
   "execution_count": 23,
   "metadata": {},
   "outputs": [
    {
     "data": {
      "text/plain": [
       "['brasil',\n",
       " 'país',\n",
       " 'governo',\n",
       " 'todos',\n",
       " 'brasileiros',\n",
       " 'estado',\n",
       " 'vamos',\n",
       " 'programa',\n",
       " 'queremos']"
      ]
     },
     "execution_count": 23,
     "metadata": {},
     "output_type": "execute_result"
    }
   ],
   "source": [
    "words = []\n",
    "for i in hundred_most_common:\n",
    "    words.append(i[0])\n",
    "words[:9]"
   ]
  },
  {
   "cell_type": "code",
   "execution_count": 24,
   "metadata": {},
   "outputs": [],
   "source": [
    "text = full_text[0].split(' ')\n",
    "freq_exp = {}\n",
    "for i in range(len(words)):\n",
    "    for j in range(len(text)):\n",
    "        if words[i] == text[j]:\n",
    "            if text[j-1]:\n",
    "                if text[j+1] == '':\n",
    "                    string = text[j-1] + ' ' + text[j] + ' ' + text[j+2]\n",
    "                else:\n",
    "                    string = text[j-1] + ' ' + text[j] + ' ' + text[j+1]\n",
    "                if not string in freq_exp:\n",
    "                    freq_exp[string] = 1\n",
    "                else:\n",
    "                    freq_exp[string] = freq_exp[string] + 1"
   ]
  },
  {
   "cell_type": "code",
   "execution_count": 25,
   "metadata": {},
   "outputs": [
    {
     "name": "stdout",
     "output_type": "stream",
     "text": [
      "programa governo joão 14\n",
      "onde todos possam 5\n",
      "joão amoêdo  4\n",
      "simples livre onde 6\n",
      "livre onde todos 5\n",
      "país onde todos 4\n",
      "seguro simples livre 5\n",
      "responsável simples digital 3\n",
      "longo prazo reduzir 3\n",
      "todos possam chegar 5\n",
      "funcione cidadão trabalhador 3\n",
      "brasil seguro simples 4\n",
      "possam chegar lá 4\n",
      "educação básica qualidade 3\n"
     ]
    }
   ],
   "source": [
    "# lista das expressoes mais frequentes no texto que usam palavras mais frequentes (lista anterior)\n",
    "for key, value in freq_exp.items():\n",
    "    if value >=3:\n",
    "        print(key, value)"
   ]
  },
  {
   "cell_type": "code",
   "execution_count": null,
   "metadata": {},
   "outputs": [],
   "source": []
  }
 ],
 "metadata": {
  "kernelspec": {
   "display_name": "Python 3",
   "language": "python",
   "name": "python3"
  },
  "language_info": {
   "codemirror_mode": {
    "name": "ipython",
    "version": 3
   },
   "file_extension": ".py",
   "mimetype": "text/x-python",
   "name": "python",
   "nbconvert_exporter": "python",
   "pygments_lexer": "ipython3",
   "version": "3.6.4"
  }
 },
 "nbformat": 4,
 "nbformat_minor": 2
}
