{
 "cells": [
  {
   "cell_type": "markdown",
   "metadata": {},
   "source": [
    "### Contagem das palavras mais usadas no Plano de governo do PSDB"
   ]
  },
  {
   "cell_type": "markdown",
   "metadata": {},
   "source": [
    "#### Importacao de bibliotecas"
   ]
  },
  {
   "cell_type": "code",
   "execution_count": 1,
   "metadata": {},
   "outputs": [],
   "source": [
    "import pandas as pd\n",
    "import numpy as np\n",
    "# http://scikit-learn.org/stable/modules/feature_extraction.html#text-feature-extraction\n",
    "from sklearn.feature_extraction.text import CountVectorizer\n",
    "import string\n",
    "from nltk.corpus import stopwords\n",
    "from nltk import *\n",
    "from matplotlib import pyplot as plt\n",
    "import seaborn as sns\n",
    "%matplotlib inline"
   ]
  },
  {
   "cell_type": "markdown",
   "metadata": {},
   "source": [
    "### Link do plano de governo\n",
    "\n",
    "- [Plano de governo](http://www.psdb.org.br/wp-content/uploads/biblioteca/66275971.pdf)\n",
    "\n",
    "### Conversao pdf to text\n",
    "\n",
    "- Utilizei esse site on-line [https://pdftotext.com/](https://pdftotext.com/)"
   ]
  },
  {
   "cell_type": "markdown",
   "metadata": {},
   "source": [
    "### Leitura do arquivo transformado em texto do original em pdf"
   ]
  },
  {
   "cell_type": "code",
   "execution_count": 2,
   "metadata": {},
   "outputs": [],
   "source": [
    "with open('text/plano_governo_alckmin.txt', 'r', encoding='UTF-8') as pl:\n",
    "    big_string = ''\n",
    "    for line in pl:\n",
    "        split_line = line.split(' ')\n",
    "        for word in split_line:\n",
    "            big_string = big_string + ' ' + word"
   ]
  },
  {
   "cell_type": "code",
   "execution_count": 3,
   "metadata": {},
   "outputs": [],
   "source": [
    "# criacao de lista de simbolos de pontuacao\n",
    "punctuation = string.punctuation"
   ]
  },
  {
   "cell_type": "code",
   "execution_count": 4,
   "metadata": {},
   "outputs": [],
   "source": [
    "# removendo quebras de linha '\\n'\n",
    "big_string = big_string.replace('\\n ', ' ')"
   ]
  },
  {
   "cell_type": "code",
   "execution_count": 5,
   "metadata": {},
   "outputs": [],
   "source": [
    "# retirando pontuacao\n",
    "for p in punctuation:\n",
    "    big_string = big_string.replace(p, '')"
   ]
  },
  {
   "cell_type": "code",
   "execution_count": 6,
   "metadata": {},
   "outputs": [],
   "source": [
    "# convertendo tudo para lower case\n",
    "big_string = big_string.lower()"
   ]
  },
  {
   "cell_type": "code",
   "execution_count": 7,
   "metadata": {},
   "outputs": [
    {
     "data": {
      "text/plain": [
       "' 1170  \\x0c2170  i estratégica do desenvolvimento caminhos para crescer o brasil no contexto mundial o brasil venceu duas batalhas decisivas na década passada – a da consolidação da democracia e a da estabilidade econômica o grande desafio que temos pela frente hoje é o do desenvolvimento nos últimos quase quatro anos não só aumentou a distância que nos separa dos países altamente desenvolvidos como estamos crescendo menos do que quase todas as nações em desenvolvimento e o que é pior muito menos do que poderíamos e precisaríamos para dar empregos e oportunidades aos nossos filhos vários países que na década de 1950 eram mais pobres do que somos hoje deram o salto do subdesenvolvimento para o desenvolvimento no prazo de uma geração china e índia estão caminhando a passos largos na mesma direção por que estaríamos condenados a ser retardatários nessa corrida respondo que o brasil com seus excepcionais recursos humanos com seus riquíssimos recursos naturais – destacandose por exemplo como u'"
      ]
     },
     "execution_count": 7,
     "metadata": {},
     "output_type": "execute_result"
    }
   ],
   "source": [
    "# checando a conversao\n",
    "big_string[0:1000]"
   ]
  },
  {
   "cell_type": "code",
   "execution_count": 8,
   "metadata": {},
   "outputs": [
    {
     "data": {
      "text/plain": [
       "202204"
      ]
     },
     "execution_count": 8,
     "metadata": {},
     "output_type": "execute_result"
    }
   ],
   "source": [
    "# comprimento da string\n",
    "len(big_string)"
   ]
  },
  {
   "cell_type": "code",
   "execution_count": 9,
   "metadata": {},
   "outputs": [],
   "source": [
    "# nltk.download() # rodar apenas uma vez para baixar os pacotes"
   ]
  },
  {
   "cell_type": "code",
   "execution_count": 10,
   "metadata": {},
   "outputs": [],
   "source": [
    "# lista de stopwords em portugues\n",
    "stop_words = stopwords.words('portuguese')"
   ]
  },
  {
   "cell_type": "code",
   "execution_count": 11,
   "metadata": {},
   "outputs": [
    {
     "data": {
      "text/plain": [
       "203"
      ]
     },
     "execution_count": 11,
     "metadata": {},
     "output_type": "execute_result"
    }
   ],
   "source": [
    "# numero de stopwords\n",
    "len(stop_words)"
   ]
  },
  {
   "cell_type": "code",
   "execution_count": 12,
   "metadata": {},
   "outputs": [],
   "source": [
    "# aparando os detalhes\n",
    "full_text = big_string\n",
    "for s_word in stop_words:\n",
    "    s_word = ' ' + s_word + ' '\n",
    "    full_text = full_text.replace(s_word, ' ')\n",
    "    full_text = full_text.replace(' é ', ' ')\n",
    "    full_text = full_text.replace(' – ', ' ')\n",
    "    full_text = full_text.replace(' • ', ' ')"
   ]
  },
  {
   "cell_type": "code",
   "execution_count": 13,
   "metadata": {},
   "outputs": [
    {
     "data": {
      "text/plain": [
       "163643"
      ]
     },
     "execution_count": 13,
     "metadata": {},
     "output_type": "execute_result"
    }
   ],
   "source": [
    "# tamanho do texto apos limpeza\n",
    "len(full_text)"
   ]
  },
  {
   "cell_type": "code",
   "execution_count": 14,
   "metadata": {},
   "outputs": [
    {
     "data": {
      "text/plain": [
       "38561"
      ]
     },
     "execution_count": 14,
     "metadata": {},
     "output_type": "execute_result"
    }
   ],
   "source": [
    "# quantidade de caracteres removidos\n",
    "len(big_string)-len(full_text)"
   ]
  },
  {
   "cell_type": "code",
   "execution_count": 15,
   "metadata": {},
   "outputs": [],
   "source": [
    "# transformando a string em lista\n",
    "full_text = [full_text]"
   ]
  },
  {
   "cell_type": "code",
   "execution_count": 16,
   "metadata": {},
   "outputs": [],
   "source": [
    "# separando palavra por palavra\n",
    "freq_full_text = full_text[0].split(' ')"
   ]
  },
  {
   "cell_type": "markdown",
   "metadata": {},
   "source": [
    "### Documentacao FreqDist\n",
    "\n",
    "- [FreqDist](http://www.nltk.org/api/nltk.html?highlight=freqdist)"
   ]
  },
  {
   "cell_type": "code",
   "execution_count": 17,
   "metadata": {},
   "outputs": [],
   "source": [
    "# Contando a frequencia de cada palavra com a funcao FreqDist\n",
    "freq_full_text = FreqDist(freq_full_text)"
   ]
  },
  {
   "cell_type": "code",
   "execution_count": 18,
   "metadata": {},
   "outputs": [
    {
     "data": {
      "text/plain": [
       "[('governo', 133),\n",
       " ('desenvolvimento', 102),\n",
       " ('brasil', 91),\n",
       " ('nacional', 90),\n",
       " ('recursos', 89),\n",
       " ('política', 81),\n",
       " ('país', 79),\n",
       " ('programa', 78),\n",
       " ('região', 76)]"
      ]
     },
     "execution_count": 18,
     "metadata": {},
     "output_type": "execute_result"
    }
   ],
   "source": [
    "# as 100 palavras mais comuns\n",
    "hundred_most_common = freq_full_text.most_common(100)\n",
    "# removendo primeiro elemento da lista ''\n",
    "hundred_most_common = hundred_most_common[1:]\n",
    "# imprime as 10 primeiras\n",
    "hundred_most_common[:9]"
   ]
  },
  {
   "cell_type": "code",
   "execution_count": 19,
   "metadata": {},
   "outputs": [],
   "source": [
    "# \n",
    "x = []\n",
    "y = []\n",
    "for i in hundred_most_common[0:29]:\n",
    "    x.append(i[0])\n",
    "    y.append(i[1])"
   ]
  },
  {
   "cell_type": "code",
   "execution_count": 20,
   "metadata": {},
   "outputs": [],
   "source": [
    "d = {'palavra': x, 'frequencia': y}\n",
    "df_r = pd.DataFrame(d)"
   ]
  },
  {
   "cell_type": "code",
   "execution_count": 26,
   "metadata": {},
   "outputs": [],
   "source": [
    "df_r.frequencia = df_r.frequencia/df_r.loc[0, 'frequencia']"
   ]
  },
  {
   "cell_type": "code",
   "execution_count": 27,
   "metadata": {},
   "outputs": [
    {
     "data": {
      "image/png": "[encoded data removed]",
      "text/plain": [
       "<matplotlib.figure.Figure at 0x7f5410d82710>"
      ]
     },
     "metadata": {},
     "output_type": "display_data"
    }
   ],
   "source": [
    "plt.figure(figsize=(15,10))\n",
    "sns.barplot(df_r.frequencia, df_r.palavra, palette=\"Blues_d\")\n",
    "plt.title(\"Frequencia de palavras no Plano de Governo do PSDB\")\n",
    "plt.xticks(rotation=90)\n",
    "plt.xlabel('frequencia')\n",
    "plt.ylabel('palavras')\n",
    "plt.show()"
   ]
  },
  {
   "cell_type": "code",
   "execution_count": 22,
   "metadata": {},
   "outputs": [
    {
     "data": {
      "text/plain": [
       "[('governo', 133),\n",
       " ('desenvolvimento', 102),\n",
       " ('brasil', 91),\n",
       " ('nacional', 90),\n",
       " ('recursos', 89),\n",
       " ('política', 81),\n",
       " ('país', 79),\n",
       " ('programa', 78),\n",
       " ('região', 76),\n",
       " ('social', 72),\n",
       " ('empresas', 62),\n",
       " ('serviços', 62),\n",
       " ('políticas', 59),\n",
       " ('criar', 57),\n",
       " ('promover', 57),\n",
       " ('sistema', 55),\n",
       " ('acesso', 55),\n",
       " ('saúde', 55),\n",
       " ('trabalho', 54),\n",
       " ('infraestrutura', 54),\n",
       " ('ser', 52),\n",
       " ('população', 51),\n",
       " ('qualidade', 51),\n",
       " ('investimentos', 50),\n",
       " ('ampliar', 48),\n",
       " ('públicos', 48),\n",
       " ('educação', 48),\n",
       " ('federal', 46),\n",
       " ('ensino', 46),\n",
       " ('renda', 45),\n",
       " ('alckmin', 45),\n",
       " ('condições', 45),\n",
       " ('milhões', 45),\n",
       " ('crescimento', 44),\n",
       " ('geraldo', 44),\n",
       " ('setor', 44),\n",
       " ('municípios', 43),\n",
       " ('meio', 42),\n",
       " ('estado', 42),\n",
       " ('público', 40),\n",
       " ('nordeste', 40),\n",
       " ('brasileira', 39),\n",
       " ('estados', 39),\n",
       " ('hoje', 38),\n",
       " ('cada', 38),\n",
       " ('forma', 38),\n",
       " ('áreas', 37),\n",
       " ('esporte', 37),\n",
       " ('gestão', 36),\n",
       " ('economia', 36),\n",
       " ('segurança', 36),\n",
       " ('ações', 36),\n",
       " ('públicas', 36),\n",
       " ('formação', 36),\n",
       " ('produção', 36),\n",
       " ('uso', 36),\n",
       " ('anos', 35),\n",
       " ('propostas', 35),\n",
       " ('pública', 35),\n",
       " ('ampliação', 35),\n",
       " ('mercado', 35),\n",
       " ('fortalecer', 34),\n",
       " ('inovação', 33),\n",
       " ('oportunidades', 32),\n",
       " ('garantir', 32),\n",
       " ('programas', 32),\n",
       " ('emprego', 32),\n",
       " ('maior', 31),\n",
       " ('econômico', 31),\n",
       " ('estimular', 31),\n",
       " ('transporte', 31),\n",
       " ('turismo', 31),\n",
       " ('sobre', 30),\n",
       " ('investimento', 30),\n",
       " ('sociedade', 30),\n",
       " ('pesquisa', 30),\n",
       " ('criação', 29),\n",
       " ('todos', 29),\n",
       " ('redução', 29),\n",
       " ('apoio', 29),\n",
       " ('expansão', 28),\n",
       " ('implantar', 28),\n",
       " ('água', 27),\n",
       " ('investir', 27),\n",
       " ('fundamental', 27),\n",
       " ('ministério', 27),\n",
       " ('financiamento', 27),\n",
       " ('apoiar', 26),\n",
       " ('atendimento', 26),\n",
       " ('projetos', 26),\n",
       " ('reduzir', 26),\n",
       " ('ainda', 26),\n",
       " ('tecnologia', 26),\n",
       " ('econômica', 25),\n",
       " ('atual', 25),\n",
       " ('novo', 25),\n",
       " ('estabelecer', 25),\n",
       " ('federais', 25),\n",
       " ('rede', 25)]"
      ]
     },
     "execution_count": 22,
     "metadata": {},
     "output_type": "execute_result"
    }
   ],
   "source": [
    "# Lista completa das 100 mais frequentes\n",
    "hundred_most_common"
   ]
  },
  {
   "cell_type": "code",
   "execution_count": 23,
   "metadata": {},
   "outputs": [
    {
     "data": {
      "text/plain": [
       "['governo',\n",
       " 'desenvolvimento',\n",
       " 'brasil',\n",
       " 'nacional',\n",
       " 'recursos',\n",
       " 'política',\n",
       " 'país',\n",
       " 'programa',\n",
       " 'região']"
      ]
     },
     "execution_count": 23,
     "metadata": {},
     "output_type": "execute_result"
    }
   ],
   "source": [
    "words = []\n",
    "for i in hundred_most_common:\n",
    "    words.append(i[0])\n",
    "words[:9]"
   ]
  },
  {
   "cell_type": "code",
   "execution_count": 24,
   "metadata": {},
   "outputs": [],
   "source": [
    "text = full_text[0].split(' ')\n",
    "freq_exp = {}\n",
    "for i in range(len(words)):\n",
    "    for j in range(len(text)):\n",
    "        if words[i] == text[j]:\n",
    "            if text[j-1]:\n",
    "                string = text[j-1] + ' ' + text[j] + ' ' + text[j+1]\n",
    "                if not string in freq_exp:\n",
    "                    freq_exp[string] = 1\n",
    "                else:\n",
    "                    freq_exp[string] = freq_exp[string] + 1"
   ]
  },
  {
   "cell_type": "code",
   "execution_count": 25,
   "metadata": {},
   "outputs": [
    {
     "name": "stdout",
     "output_type": "stream",
     "text": [
      "políticas desenvolvimento região 3\n",
      "financiada recursos orçamentários 3\n",
      "criar programa nacional 4\n",
      "coordenação políticas desenvolvimento 3\n",
      "oportunidades trabalho emprego 3\n",
      "melhoria qualidade ensino 3\n",
      "custos investimentos privados 3\n",
      "geraldo alckmin vai 13\n",
      "criar condições ampliar 3\n",
      "governo geraldo alckmin 39\n",
      "estados municípios iniciativa 3\n",
      "preservação meio ambiente 3\n",
      "novo nordeste  3\n",
      "conjunto estados municípios 3\n",
      "união estados municípios 6\n",
      "trabalho emprego renda 3\n",
      "programa novo nordeste 4\n",
      "programa novo norte 3\n"
     ]
    }
   ],
   "source": [
    "# lista das expressoes mais frequentes no texto que usam palavras mais frequentes (lista anterior)\n",
    "for key, value in freq_exp.items():\n",
    "    if value >=3:\n",
    "        print(key, value)"
   ]
  },
  {
   "cell_type": "code",
   "execution_count": null,
   "metadata": {},
   "outputs": [],
   "source": []
  }
 ],
 "metadata": {
  "kernelspec": {
   "display_name": "Python 3",
   "language": "python",
   "name": "python3"
  },
  "language_info": {
   "codemirror_mode": {
    "name": "ipython",
    "version": 3
   },
   "file_extension": ".py",
   "mimetype": "text/x-python",
   "name": "python",
   "nbconvert_exporter": "python",
   "pygments_lexer": "ipython3",
   "version": "3.6.4"
  }
 },
 "nbformat": 4,
 "nbformat_minor": 2
}
